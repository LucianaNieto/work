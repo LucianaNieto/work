{
 "cells": [
  {
   "cell_type": "code",
   "execution_count": 71,
   "metadata": {},
   "outputs": [
    {
     "name": "stdout",
     "output_type": "stream",
     "text": [
      "/Users/luciananieto/2021/Planet_2021/Codes/Python\n"
     ]
    }
   ],
   "source": [
    "import pandas as pd\n",
    "import seaborn as sns\n",
    "%matplotlib inline\n",
    "import numpy as np\n",
    "from scipy import stats\n",
    "import matplotlib.pyplot as plt\n",
    "import os\n",
    "\n",
    "dirpath = os.getcwd()\n",
    "print(dirpath)\n",
    "\n",
    "sns.set(rc={'figure.figsize':(11.7,8.27)})"
   ]
  },
  {
   "cell_type": "code",
   "execution_count": 72,
   "metadata": {},
   "outputs": [],
   "source": [
    "df = pd.read_csv (\"/Users/luciananieto/2021/Planet_2021/Planet_Indices_Weather/Planet_full_2017-ck/Matchiing-dates-ck/2017-ck-finalDataset.csv\")"
   ]
  },
  {
   "cell_type": "markdown",
   "metadata": {},
   "source": [
    "### Data cleaning"
   ]
  },
  {
   "cell_type": "code",
   "execution_count": 43,
   "metadata": {},
   "outputs": [
    {
     "data": {
      "text/plain": [
       "Index(['Unnamed: 0', 'B1', 'B2', 'B3', 'B4', 'CVI', 'EVI', 'FID_1', 'GCVI',\n",
       "       'ID', 'NDVI', 'NGI', 'Q1', 'Q2', 'Q3', 'Q4', 'Shape_Area', 'Shape_Le_1',\n",
       "       'Shape_Leng', 'stage', 'constant', 'crop', 'latitude', 'longitude',\n",
       "       'pr', 'tmmn', 'tmmx', 'vpd', 'year', '.geo'],\n",
       "      dtype='object')"
      ]
     },
     "execution_count": 43,
     "metadata": {},
     "output_type": "execute_result"
    }
   ],
   "source": [
    "df.columns"
   ]
  },
  {
   "cell_type": "code",
   "execution_count": 44,
   "metadata": {},
   "outputs": [],
   "source": [
    "df= df.drop (['Unnamed: 0', 'Shape_Area', 'Shape_Leng', 'Shape_Le_1','FID_1','crop','.geo'], axis=1)"
   ]
  },
  {
   "cell_type": "code",
   "execution_count": 45,
   "metadata": {},
   "outputs": [
    {
     "data": {
      "text/plain": [
       "Index(['B1', 'B2', 'B3', 'B4', 'CVI', 'EVI', 'GCVI', 'ID', 'NDVI', 'NGI', 'Q1',\n",
       "       'Q2', 'Q3', 'Q4', 'stage', 'constant', 'latitude', 'longitude', 'pr',\n",
       "       'tmmn', 'tmmx', 'vpd', 'year'],\n",
       "      dtype='object')"
      ]
     },
     "execution_count": 45,
     "metadata": {},
     "output_type": "execute_result"
    }
   ],
   "source": [
    "df.columns"
   ]
  },
  {
   "cell_type": "code",
   "execution_count": 46,
   "metadata": {},
   "outputs": [
    {
     "data": {
      "text/html": [
       "<div>\n",
       "<style scoped>\n",
       "    .dataframe tbody tr th:only-of-type {\n",
       "        vertical-align: middle;\n",
       "    }\n",
       "\n",
       "    .dataframe tbody tr th {\n",
       "        vertical-align: top;\n",
       "    }\n",
       "\n",
       "    .dataframe thead th {\n",
       "        text-align: right;\n",
       "    }\n",
       "</style>\n",
       "<table border=\"1\" class=\"dataframe\">\n",
       "  <thead>\n",
       "    <tr style=\"text-align: right;\">\n",
       "      <th></th>\n",
       "      <th>B1</th>\n",
       "      <th>B2</th>\n",
       "      <th>B3</th>\n",
       "      <th>B4</th>\n",
       "      <th>CVI</th>\n",
       "      <th>EVI</th>\n",
       "      <th>GCVI</th>\n",
       "      <th>ID</th>\n",
       "      <th>NDVI</th>\n",
       "      <th>NGI</th>\n",
       "      <th>...</th>\n",
       "      <th>Q4</th>\n",
       "      <th>stage</th>\n",
       "      <th>constant</th>\n",
       "      <th>latitude</th>\n",
       "      <th>longitude</th>\n",
       "      <th>pr</th>\n",
       "      <th>tmmn</th>\n",
       "      <th>tmmx</th>\n",
       "      <th>vpd</th>\n",
       "      <th>year</th>\n",
       "    </tr>\n",
       "  </thead>\n",
       "  <tbody>\n",
       "    <tr>\n",
       "      <th>count</th>\n",
       "      <td>783.000000</td>\n",
       "      <td>783.000000</td>\n",
       "      <td>783.000000</td>\n",
       "      <td>783.000000</td>\n",
       "      <td>783.000000</td>\n",
       "      <td>783.000000</td>\n",
       "      <td>783.000000</td>\n",
       "      <td>783.000000</td>\n",
       "      <td>783.000000</td>\n",
       "      <td>783.000000</td>\n",
       "      <td>...</td>\n",
       "      <td>783.000000</td>\n",
       "      <td>783</td>\n",
       "      <td>783.000000</td>\n",
       "      <td>783.000000</td>\n",
       "      <td>783.000000</td>\n",
       "      <td>783.000000</td>\n",
       "      <td>783.000000</td>\n",
       "      <td>783.000000</td>\n",
       "      <td>783.000000</td>\n",
       "      <td>783.0</td>\n",
       "    </tr>\n",
       "    <tr>\n",
       "      <th>unique</th>\n",
       "      <td>NaN</td>\n",
       "      <td>NaN</td>\n",
       "      <td>NaN</td>\n",
       "      <td>NaN</td>\n",
       "      <td>NaN</td>\n",
       "      <td>NaN</td>\n",
       "      <td>NaN</td>\n",
       "      <td>NaN</td>\n",
       "      <td>NaN</td>\n",
       "      <td>NaN</td>\n",
       "      <td>...</td>\n",
       "      <td>NaN</td>\n",
       "      <td>24</td>\n",
       "      <td>NaN</td>\n",
       "      <td>NaN</td>\n",
       "      <td>NaN</td>\n",
       "      <td>NaN</td>\n",
       "      <td>NaN</td>\n",
       "      <td>NaN</td>\n",
       "      <td>NaN</td>\n",
       "      <td>NaN</td>\n",
       "    </tr>\n",
       "    <tr>\n",
       "      <th>top</th>\n",
       "      <td>NaN</td>\n",
       "      <td>NaN</td>\n",
       "      <td>NaN</td>\n",
       "      <td>NaN</td>\n",
       "      <td>NaN</td>\n",
       "      <td>NaN</td>\n",
       "      <td>NaN</td>\n",
       "      <td>NaN</td>\n",
       "      <td>NaN</td>\n",
       "      <td>NaN</td>\n",
       "      <td>...</td>\n",
       "      <td>NaN</td>\n",
       "      <td>R5</td>\n",
       "      <td>NaN</td>\n",
       "      <td>NaN</td>\n",
       "      <td>NaN</td>\n",
       "      <td>NaN</td>\n",
       "      <td>NaN</td>\n",
       "      <td>NaN</td>\n",
       "      <td>NaN</td>\n",
       "      <td>NaN</td>\n",
       "    </tr>\n",
       "    <tr>\n",
       "      <th>freq</th>\n",
       "      <td>NaN</td>\n",
       "      <td>NaN</td>\n",
       "      <td>NaN</td>\n",
       "      <td>NaN</td>\n",
       "      <td>NaN</td>\n",
       "      <td>NaN</td>\n",
       "      <td>NaN</td>\n",
       "      <td>NaN</td>\n",
       "      <td>NaN</td>\n",
       "      <td>NaN</td>\n",
       "      <td>...</td>\n",
       "      <td>NaN</td>\n",
       "      <td>65</td>\n",
       "      <td>NaN</td>\n",
       "      <td>NaN</td>\n",
       "      <td>NaN</td>\n",
       "      <td>NaN</td>\n",
       "      <td>NaN</td>\n",
       "      <td>NaN</td>\n",
       "      <td>NaN</td>\n",
       "      <td>NaN</td>\n",
       "    </tr>\n",
       "    <tr>\n",
       "      <th>mean</th>\n",
       "      <td>565.277442</td>\n",
       "      <td>798.408282</td>\n",
       "      <td>901.418499</td>\n",
       "      <td>3628.625464</td>\n",
       "      <td>4.876785</td>\n",
       "      <td>1.589054</td>\n",
       "      <td>11.711090</td>\n",
       "      <td>7036.538953</td>\n",
       "      <td>0.604165</td>\n",
       "      <td>0.147111</td>\n",
       "      <td>...</td>\n",
       "      <td>-502.120774</td>\n",
       "      <td>NaN</td>\n",
       "      <td>184.158365</td>\n",
       "      <td>37.802735</td>\n",
       "      <td>-98.802727</td>\n",
       "      <td>2.301906</td>\n",
       "      <td>289.864638</td>\n",
       "      <td>304.040861</td>\n",
       "      <td>1.591905</td>\n",
       "      <td>2017.0</td>\n",
       "    </tr>\n",
       "    <tr>\n",
       "      <th>std</th>\n",
       "      <td>242.395015</td>\n",
       "      <td>293.289768</td>\n",
       "      <td>518.988107</td>\n",
       "      <td>569.918886</td>\n",
       "      <td>1.154355</td>\n",
       "      <td>0.724565</td>\n",
       "      <td>6.618991</td>\n",
       "      <td>1730.970840</td>\n",
       "      <td>0.212113</td>\n",
       "      <td>0.042723</td>\n",
       "      <td>...</td>\n",
       "      <td>504.617542</td>\n",
       "      <td>NaN</td>\n",
       "      <td>31.656936</td>\n",
       "      <td>0.048818</td>\n",
       "      <td>0.075011</td>\n",
       "      <td>6.380216</td>\n",
       "      <td>4.008449</td>\n",
       "      <td>4.869773</td>\n",
       "      <td>0.648921</td>\n",
       "      <td>0.0</td>\n",
       "    </tr>\n",
       "    <tr>\n",
       "      <th>min</th>\n",
       "      <td>230.162240</td>\n",
       "      <td>388.518416</td>\n",
       "      <td>216.348578</td>\n",
       "      <td>1944.097861</td>\n",
       "      <td>2.989037</td>\n",
       "      <td>0.396887</td>\n",
       "      <td>2.994897</td>\n",
       "      <td>2337.000000</td>\n",
       "      <td>0.212369</td>\n",
       "      <td>0.078894</td>\n",
       "      <td>...</td>\n",
       "      <td>-999.000000</td>\n",
       "      <td>NaN</td>\n",
       "      <td>118.000000</td>\n",
       "      <td>37.732180</td>\n",
       "      <td>-98.926905</td>\n",
       "      <td>0.000000</td>\n",
       "      <td>276.000000</td>\n",
       "      <td>288.899994</td>\n",
       "      <td>0.110000</td>\n",
       "      <td>2017.0</td>\n",
       "    </tr>\n",
       "    <tr>\n",
       "      <th>25%</th>\n",
       "      <td>358.867233</td>\n",
       "      <td>539.736308</td>\n",
       "      <td>457.092236</td>\n",
       "      <td>3160.408062</td>\n",
       "      <td>3.716925</td>\n",
       "      <td>0.822712</td>\n",
       "      <td>4.999234</td>\n",
       "      <td>6440.000000</td>\n",
       "      <td>0.391257</td>\n",
       "      <td>0.105909</td>\n",
       "      <td>...</td>\n",
       "      <td>-999.000000</td>\n",
       "      <td>NaN</td>\n",
       "      <td>159.000000</td>\n",
       "      <td>37.767979</td>\n",
       "      <td>-98.853719</td>\n",
       "      <td>0.000000</td>\n",
       "      <td>288.086905</td>\n",
       "      <td>301.700012</td>\n",
       "      <td>1.080000</td>\n",
       "      <td>2017.0</td>\n",
       "    </tr>\n",
       "    <tr>\n",
       "      <th>50%</th>\n",
       "      <td>471.065251</td>\n",
       "      <td>687.153559</td>\n",
       "      <td>663.513124</td>\n",
       "      <td>3568.566969</td>\n",
       "      <td>4.935410</td>\n",
       "      <td>1.796066</td>\n",
       "      <td>11.209762</td>\n",
       "      <td>7226.000000</td>\n",
       "      <td>0.681435</td>\n",
       "      <td>0.137666</td>\n",
       "      <td>...</td>\n",
       "      <td>-999.000000</td>\n",
       "      <td>NaN</td>\n",
       "      <td>184.000000</td>\n",
       "      <td>37.795543</td>\n",
       "      <td>-98.807908</td>\n",
       "      <td>0.000000</td>\n",
       "      <td>290.100006</td>\n",
       "      <td>304.064199</td>\n",
       "      <td>1.590000</td>\n",
       "      <td>2017.0</td>\n",
       "    </tr>\n",
       "    <tr>\n",
       "      <th>75%</th>\n",
       "      <td>783.800061</td>\n",
       "      <td>1070.044964</td>\n",
       "      <td>1366.195267</td>\n",
       "      <td>4133.876790</td>\n",
       "      <td>5.827865</td>\n",
       "      <td>2.250079</td>\n",
       "      <td>18.186318</td>\n",
       "      <td>8203.000000</td>\n",
       "      <td>0.794133</td>\n",
       "      <td>0.191860</td>\n",
       "      <td>...</td>\n",
       "      <td>4.000000</td>\n",
       "      <td>NaN</td>\n",
       "      <td>206.000000</td>\n",
       "      <td>37.819452</td>\n",
       "      <td>-98.733645</td>\n",
       "      <td>0.490312</td>\n",
       "      <td>292.620606</td>\n",
       "      <td>308.210676</td>\n",
       "      <td>1.930000</td>\n",
       "      <td>2017.0</td>\n",
       "    </tr>\n",
       "    <tr>\n",
       "      <th>max</th>\n",
       "      <td>1167.545654</td>\n",
       "      <td>1493.841637</td>\n",
       "      <td>2200.052129</td>\n",
       "      <td>4943.882657</td>\n",
       "      <td>7.722837</td>\n",
       "      <td>2.735999</td>\n",
       "      <td>26.002137</td>\n",
       "      <td>9743.000000</td>\n",
       "      <td>0.900943</td>\n",
       "      <td>0.219415</td>\n",
       "      <td>...</td>\n",
       "      <td>49.000000</td>\n",
       "      <td>NaN</td>\n",
       "      <td>276.000000</td>\n",
       "      <td>37.937205</td>\n",
       "      <td>-98.683249</td>\n",
       "      <td>58.000000</td>\n",
       "      <td>297.100006</td>\n",
       "      <td>313.890775</td>\n",
       "      <td>3.598156</td>\n",
       "      <td>2017.0</td>\n",
       "    </tr>\n",
       "  </tbody>\n",
       "</table>\n",
       "<p>11 rows × 23 columns</p>\n",
       "</div>"
      ],
      "text/plain": [
       "                 B1           B2           B3           B4         CVI  \\\n",
       "count    783.000000   783.000000   783.000000   783.000000  783.000000   \n",
       "unique          NaN          NaN          NaN          NaN         NaN   \n",
       "top             NaN          NaN          NaN          NaN         NaN   \n",
       "freq            NaN          NaN          NaN          NaN         NaN   \n",
       "mean     565.277442   798.408282   901.418499  3628.625464    4.876785   \n",
       "std      242.395015   293.289768   518.988107   569.918886    1.154355   \n",
       "min      230.162240   388.518416   216.348578  1944.097861    2.989037   \n",
       "25%      358.867233   539.736308   457.092236  3160.408062    3.716925   \n",
       "50%      471.065251   687.153559   663.513124  3568.566969    4.935410   \n",
       "75%      783.800061  1070.044964  1366.195267  4133.876790    5.827865   \n",
       "max     1167.545654  1493.841637  2200.052129  4943.882657    7.722837   \n",
       "\n",
       "               EVI        GCVI           ID        NDVI         NGI  ...  \\\n",
       "count   783.000000  783.000000   783.000000  783.000000  783.000000  ...   \n",
       "unique         NaN         NaN          NaN         NaN         NaN  ...   \n",
       "top            NaN         NaN          NaN         NaN         NaN  ...   \n",
       "freq           NaN         NaN          NaN         NaN         NaN  ...   \n",
       "mean      1.589054   11.711090  7036.538953    0.604165    0.147111  ...   \n",
       "std       0.724565    6.618991  1730.970840    0.212113    0.042723  ...   \n",
       "min       0.396887    2.994897  2337.000000    0.212369    0.078894  ...   \n",
       "25%       0.822712    4.999234  6440.000000    0.391257    0.105909  ...   \n",
       "50%       1.796066   11.209762  7226.000000    0.681435    0.137666  ...   \n",
       "75%       2.250079   18.186318  8203.000000    0.794133    0.191860  ...   \n",
       "max       2.735999   26.002137  9743.000000    0.900943    0.219415  ...   \n",
       "\n",
       "                Q4  stage    constant    latitude   longitude          pr  \\\n",
       "count   783.000000    783  783.000000  783.000000  783.000000  783.000000   \n",
       "unique         NaN     24         NaN         NaN         NaN         NaN   \n",
       "top            NaN     R5         NaN         NaN         NaN         NaN   \n",
       "freq           NaN     65         NaN         NaN         NaN         NaN   \n",
       "mean   -502.120774    NaN  184.158365   37.802735  -98.802727    2.301906   \n",
       "std     504.617542    NaN   31.656936    0.048818    0.075011    6.380216   \n",
       "min    -999.000000    NaN  118.000000   37.732180  -98.926905    0.000000   \n",
       "25%    -999.000000    NaN  159.000000   37.767979  -98.853719    0.000000   \n",
       "50%    -999.000000    NaN  184.000000   37.795543  -98.807908    0.000000   \n",
       "75%       4.000000    NaN  206.000000   37.819452  -98.733645    0.490312   \n",
       "max      49.000000    NaN  276.000000   37.937205  -98.683249   58.000000   \n",
       "\n",
       "              tmmn        tmmx         vpd    year  \n",
       "count   783.000000  783.000000  783.000000   783.0  \n",
       "unique         NaN         NaN         NaN     NaN  \n",
       "top            NaN         NaN         NaN     NaN  \n",
       "freq           NaN         NaN         NaN     NaN  \n",
       "mean    289.864638  304.040861    1.591905  2017.0  \n",
       "std       4.008449    4.869773    0.648921     0.0  \n",
       "min     276.000000  288.899994    0.110000  2017.0  \n",
       "25%     288.086905  301.700012    1.080000  2017.0  \n",
       "50%     290.100006  304.064199    1.590000  2017.0  \n",
       "75%     292.620606  308.210676    1.930000  2017.0  \n",
       "max     297.100006  313.890775    3.598156  2017.0  \n",
       "\n",
       "[11 rows x 23 columns]"
      ]
     },
     "execution_count": 46,
     "metadata": {},
     "output_type": "execute_result"
    }
   ],
   "source": [
    "df.describe(include='all')"
   ]
  },
  {
   "cell_type": "code",
   "execution_count": 47,
   "metadata": {},
   "outputs": [],
   "source": [
    "#df.sort_values(by=['constant'])\n",
    "from sklearn.tree import DecisionTreeClassifier\n",
    "from sklearn.ensemble import RandomForestClassifier\n",
    "from sklearn.feature_selection import SelectKBest\n",
    "from sklearn.feature_selection import f_classif\n",
    "from sklearn.model_selection import train_test_split\n",
    "from sklearn import tree \n",
    "from sklearn.tree import plot_tree\n",
    "from sklearn import metrics"
   ]
  },
  {
   "cell_type": "code",
   "execution_count": 48,
   "metadata": {},
   "outputs": [
    {
     "data": {
      "text/plain": [
       "R5     65\n",
       "VE     62\n",
       "R1     58\n",
       "R3     51\n",
       "R4     49\n",
       "V6     42\n",
       "VT     38\n",
       "V4     37\n",
       "R2     35\n",
       "V8     32\n",
       "V1     31\n",
       "V7     30\n",
       "V5     29\n",
       "V2     29\n",
       "R6     27\n",
       "V3     27\n",
       "V12    26\n",
       "V9     25\n",
       "V10    24\n",
       "V13    22\n",
       "V11    22\n",
       "V15    20\n",
       "V16     1\n",
       "V14     1\n",
       "Name: stage, dtype: int64"
      ]
     },
     "execution_count": 48,
     "metadata": {},
     "output_type": "execute_result"
    }
   ],
   "source": [
    "df['stage'].value_counts()"
   ]
  },
  {
   "cell_type": "code",
   "execution_count": 49,
   "metadata": {},
   "outputs": [],
   "source": [
    "#sns.boxplot(y='constant', x='stage', data=df, order=['V8', 'V9','V10','V11','V12','V13','V14','V15','V16','V18','V19','VT','R1','R2','R3','R4','R5','R6'])"
   ]
  },
  {
   "cell_type": "code",
   "execution_count": 50,
   "metadata": {},
   "outputs": [],
   "source": [
    "#f, ax = plt.subplots(figsize=(20, 18))\n",
    "#corr = df.corr()\n",
    "#sns.heatmap(corr,\n",
    "#            xticklabels=corr.columns.values,\n",
    "#            yticklabels=corr.columns.values,\n",
    "#            annot=True, fmt=\".2f\")"
   ]
  },
  {
   "cell_type": "markdown",
   "metadata": {},
   "source": [
    "### Data normalization"
   ]
  },
  {
   "cell_type": "code",
   "execution_count": 51,
   "metadata": {},
   "outputs": [],
   "source": [
    "from sklearn.preprocessing import MinMaxScaler\n",
    "\n",
    "#scaled_features = df.copy()\n"
   ]
  },
  {
   "cell_type": "code",
   "execution_count": 52,
   "metadata": {},
   "outputs": [],
   "source": [
    "col_names = ['NGI', 'CVI', 'EVI','GCVI', 'NDVI']\n",
    "\n",
    "features = df[col_names]\n",
    "scaler = MinMaxScaler().fit(features.values)\n",
    "features = scaler.transform(features.values)"
   ]
  },
  {
   "cell_type": "code",
   "execution_count": 53,
   "metadata": {},
   "outputs": [
    {
     "name": "stdout",
     "output_type": "stream",
     "text": [
      "          NGI       CVI       EVI      GCVI      NDVI\n",
      "0    0.653405  0.251997  0.381383  0.169288  0.469060\n",
      "1    0.718984  0.214612  0.290559  0.128465  0.380633\n",
      "2    0.869690  0.110868  0.122110  0.048363  0.170529\n",
      "3    0.519540  0.322422  0.527834  0.268184  0.619363\n",
      "4    0.493048  0.335738  0.571011  0.302815  0.624869\n",
      "..        ...       ...       ...       ...       ...\n",
      "778  0.865337  0.132607  0.057711  0.044229  0.107156\n",
      "779  0.909575  0.090915  0.027184  0.024315  0.056861\n",
      "780  0.917946  0.078768  0.038115  0.023608  0.068605\n",
      "781  0.921246  0.075491  0.038072  0.022636  0.067921\n",
      "782  0.942390  0.045377  0.066465  0.023206  0.093144\n",
      "\n",
      "[783 rows x 5 columns]\n"
     ]
    }
   ],
   "source": [
    "df[col_names] = features\n",
    "print(df[col_names])"
   ]
  },
  {
   "cell_type": "code",
   "execution_count": 54,
   "metadata": {},
   "outputs": [
    {
     "data": {
      "text/plain": [
       "Index(['B1', 'B2', 'B3', 'B4', 'CVI', 'EVI', 'GCVI', 'ID', 'NDVI', 'NGI', 'Q1',\n",
       "       'Q2', 'Q3', 'Q4', 'stage', 'constant', 'latitude', 'longitude', 'pr',\n",
       "       'tmmn', 'tmmx', 'vpd', 'year'],\n",
       "      dtype='object')"
      ]
     },
     "execution_count": 54,
     "metadata": {},
     "output_type": "execute_result"
    }
   ],
   "source": [
    "df.columns"
   ]
  },
  {
   "cell_type": "code",
   "execution_count": 55,
   "metadata": {},
   "outputs": [],
   "source": [
    "#rearange colummns \n",
    "\n",
    "\n",
    "df = df[['stage','B1', 'B2', 'B3', 'B4',  \n",
    "         'Q1','Q2', 'Q3', 'Q4',\n",
    "         'CVI', 'EVI', 'GCVI', 'NDVI', 'NGI',  \n",
    "         'pr', 'tmmn', 'tmmx', 'vpd',\n",
    "         'ID','constant',  'latitude', 'longitude',\n",
    "       'year']]"
   ]
  },
  {
   "cell_type": "code",
   "execution_count": 56,
   "metadata": {},
   "outputs": [
    {
     "data": {
      "text/plain": [
       "Index(['stage', 'B1', 'B2', 'B3', 'B4', 'Q1', 'Q2', 'Q3', 'Q4', 'CVI', 'EVI',\n",
       "       'GCVI', 'NDVI', 'NGI', 'pr', 'tmmn', 'tmmx', 'vpd', 'ID', 'constant',\n",
       "       'latitude', 'longitude', 'year'],\n",
       "      dtype='object')"
      ]
     },
     "execution_count": 56,
     "metadata": {},
     "output_type": "execute_result"
    }
   ],
   "source": [
    "df.columns"
   ]
  },
  {
   "cell_type": "markdown",
   "metadata": {},
   "source": [
    "# all variables"
   ]
  },
  {
   "cell_type": "markdown",
   "metadata": {},
   "source": [
    "### Random Forest version "
   ]
  },
  {
   "cell_type": "code",
   "execution_count": 57,
   "metadata": {},
   "outputs": [],
   "source": [
    "from sklearn.ensemble import RandomForestClassifier\n",
    "from sklearn import metrics"
   ]
  },
  {
   "cell_type": "code",
   "execution_count": 58,
   "metadata": {},
   "outputs": [
    {
     "name": "stdout",
     "output_type": "stream",
     "text": [
      "             B1           B2           B3           B4          Q1        Q2  \\\n",
      "0    695.722810   966.814111  1093.266128  3591.616557  100.000000  1.000000   \n",
      "1    727.298601   993.818057  1192.066592  3326.428871  100.000000  1.000000   \n",
      "2    951.262402  1229.910291  1638.803122  3245.444667  100.000000  1.000000   \n",
      "3    511.549196   761.775381   772.130056  3449.250744   72.735583  0.567850   \n",
      "4    583.716868   837.176881   870.170742  3819.637504   96.816309  0.948040   \n",
      "..          ...          ...          ...          ...         ...       ...   \n",
      "778  864.798231  1171.614783  1673.723634  2976.132725  100.000000  2.000000   \n",
      "779  929.028164  1250.904097  1808.040756  2969.409872    4.309029  0.005791   \n",
      "780  919.422755  1226.083870  1734.990455  2922.313090    1.005232  0.000000   \n",
      "781  909.971475  1212.974999  1715.868459  2879.202835    3.304668  0.000000   \n",
      "782  865.850153  1140.128884  1540.123817  2699.897713    1.000000  0.000000   \n",
      "\n",
      "             Q3     Q4       CVI       EVI  ...       NGI   pr        tmmn  \\\n",
      "0   -999.000000 -999.0  0.251997  0.381383  ...  0.653405  0.0  294.165540   \n",
      "1   -999.000000 -999.0  0.214612  0.290559  ...  0.718984  0.0  294.299988   \n",
      "2   -999.000000 -999.0  0.110868  0.122110  ...  0.869690  0.0  294.273490   \n",
      "3      1.882378   47.0  0.322422  0.527834  ...  0.519540  0.0  288.700012   \n",
      "4      2.860495   47.0  0.335738  0.571011  ...  0.493048  0.0  288.700012   \n",
      "..          ...    ...       ...       ...  ...       ...  ...         ...   \n",
      "778 -999.000000 -999.0  0.132607  0.057711  ...  0.865337  0.0  288.299988   \n",
      "779    1.000000   14.0  0.090915  0.027184  ...  0.909575  0.0  279.700014   \n",
      "780    1.000000   14.0  0.078768  0.038115  ...  0.917946  0.0  279.700012   \n",
      "781    1.000000   14.0  0.075491  0.038072  ...  0.921246  0.0  279.700012   \n",
      "782    1.000000   14.0  0.045377  0.066465  ...  0.942390  0.0  279.826190   \n",
      "\n",
      "           tmmx       vpd    ID  constant   latitude  longitude  year  \n",
      "0    306.765526  1.693106  7061       162  37.802704 -98.744591  2017  \n",
      "1    307.100006  1.750000  4590       162  37.871902 -98.733438  2017  \n",
      "2    307.073500  1.744699  5305       162  37.850059 -98.744902  2017  \n",
      "3    304.000000  1.820000  7031       170  37.802890 -98.771654  2017  \n",
      "4    304.000000  1.820000  7078       170  37.802692 -98.753139  2017  \n",
      "..          ...       ...   ...       ...        ...        ...   ...  \n",
      "778  304.000000  1.680000  6440       151  37.820618 -98.689115  2017  \n",
      "779  295.833888  0.989960  7190       132  37.794685 -98.917234  2017  \n",
      "780  295.704874  0.980486  7450       132  37.787745 -98.908474  2017  \n",
      "781  295.706693  0.980668  7696       132  37.780407 -98.908356  2017  \n",
      "782  295.847597  0.990000  7249       132  37.799228 -98.807973  2017  \n",
      "\n",
      "[783 rows x 22 columns]\n",
      "0       V6\n",
      "1       V7\n",
      "2       V5\n",
      "3      V10\n",
      "4      V10\n",
      "      ... \n",
      "778     VE\n",
      "779     VE\n",
      "780     VE\n",
      "781     VE\n",
      "782     VE\n",
      "Name: stage, Length: 783, dtype: object\n"
     ]
    }
   ],
   "source": [
    "X= df.iloc[:,1:23]\n",
    "Y = df.iloc[:,0]\n",
    "print (X)\n",
    "print(Y)"
   ]
  },
  {
   "cell_type": "code",
   "execution_count": 59,
   "metadata": {},
   "outputs": [],
   "source": [
    "seed = 1\n",
    "test_size = 0.30\n",
    "X_train, X_test, y_train, y_test = train_test_split(X, Y, test_size=test_size, random_state=seed)"
   ]
  },
  {
   "cell_type": "code",
   "execution_count": 60,
   "metadata": {},
   "outputs": [
    {
     "name": "stdout",
     "output_type": "stream",
     "text": [
      "              precision    recall  f1-score    support\n",
      "R1             0.428571  0.473684  0.450000   19.00000\n",
      "R2             0.428571  0.600000  0.500000    5.00000\n",
      "R3             0.875000  0.636364  0.736842   11.00000\n",
      "R4             0.666667  0.888889  0.761905    9.00000\n",
      "R5             0.888889  0.888889  0.888889   18.00000\n",
      "R6             0.909091  0.833333  0.869565   12.00000\n",
      "V1             0.125000  0.142857  0.133333    7.00000\n",
      "V10            0.333333  0.285714  0.307692    7.00000\n",
      "V11            0.166667  0.100000  0.125000   10.00000\n",
      "V12            0.500000  0.100000  0.166667   10.00000\n",
      "V13            0.111111  0.166667  0.133333    6.00000\n",
      "V15            0.250000  0.285714  0.266667    7.00000\n",
      "V16            0.000000  0.000000  0.000000    1.00000\n",
      "V2             0.250000  0.142857  0.181818    7.00000\n",
      "V3             0.400000  0.666667  0.500000    6.00000\n",
      "V4             0.555556  0.416667  0.476190   12.00000\n",
      "V5             0.214286  0.375000  0.272727    8.00000\n",
      "V6             0.416667  0.294118  0.344828   17.00000\n",
      "V7             0.461538  0.428571  0.444444   14.00000\n",
      "V8             0.555556  0.416667  0.476190   12.00000\n",
      "V9             0.181818  0.500000  0.266667    4.00000\n",
      "VE             0.636364  0.700000  0.666667   20.00000\n",
      "VT             0.333333  0.384615  0.357143   13.00000\n",
      "accuracy       0.472340  0.472340  0.472340    0.47234\n",
      "macro avg      0.421218  0.422925  0.405503  235.00000\n",
      "weighted avg   0.492093  0.472340  0.468630  235.00000\n",
      "[[ 9  3  1  1  0  0  0  0  1  0  0  2  0  0  0  0  0  0  0  0  0  0  2]\n",
      " [ 2  3  0  0  0  0  0  0  0  0  0  0  0  0  0  0  0  0  0  0  0  0  0]\n",
      " [ 0  1  7  2  0  0  0  0  0  0  0  0  0  0  0  0  0  0  0  1  0  0  0]\n",
      " [ 1  0  0  8  0  0  0  0  0  0  0  0  0  0  0  0  0  0  0  0  0  0  0]\n",
      " [ 0  0  0  1 16  1  0  0  0  0  0  0  0  0  0  0  0  0  0  0  0  0  0]\n",
      " [ 0  0  0  0  2 10  0  0  0  0  0  0  0  0  0  0  0  0  0  0  0  0  0]\n",
      " [ 0  0  0  0  0  0  1  0  0  0  0  0  0  0  1  0  0  0  0  0  0  5  0]\n",
      " [ 0  0  0  0  0  0  0  2  1  0  0  0  0  0  0  0  0  0  0  1  2  0  1]\n",
      " [ 0  0  0  0  0  0  0  1  1  1  3  0  0  0  0  0  0  0  0  1  2  0  1]\n",
      " [ 0  0  0  0  0  0  0  2  1  1  4  1  0  0  0  0  0  0  0  0  0  0  1]\n",
      " [ 0  0  0  0  0  0  0  0  2  0  1  0  0  0  0  0  0  0  0  0  0  0  3]\n",
      " [ 3  0  0  0  0  0  0  0  0  0  0  2  0  0  0  0  0  0  0  0  0  0  2]\n",
      " [ 1  0  0  0  0  0  0  0  0  0  0  0  0  0  0  0  0  0  0  0  0  0  0]\n",
      " [ 0  0  0  0  0  0  1  0  0  0  0  0  0  1  3  0  0  0  0  0  0  2  0]\n",
      " [ 0  0  0  0  0  0  1  0  0  0  0  0  0  0  4  0  1  0  0  0  0  0  0]\n",
      " [ 0  0  0  0  0  0  0  0  0  0  0  0  0  1  2  5  2  0  0  0  1  1  0]\n",
      " [ 0  0  0  0  0  0  0  0  0  0  0  0  0  1  0  2  3  2  0  0  0  0  0]\n",
      " [ 0  0  0  0  0  0  1  0  0  0  0  0  0  0  0  0  5  5  4  0  2  0  0]\n",
      " [ 0  0  0  0  0  0  0  0  0  0  1  0  0  1  0  1  1  4  6  0  0  0  0]\n",
      " [ 0  0  0  0  0  0  0  1  0  0  0  0  0  0  0  0  0  1  3  5  2  0  0]\n",
      " [ 0  0  0  0  0  0  0  0  0  0  0  0  0  0  0  0  1  0  0  1  2  0  0]\n",
      " [ 0  0  0  0  0  0  4  0  0  0  0  0  0  0  0  1  1  0  0  0  0 14  0]\n",
      " [ 5  0  0  0  0  0  0  0  0  0  0  3  0  0  0  0  0  0  0  0  0  0  5]]\n"
     ]
    },
    {
     "name": "stderr",
     "output_type": "stream",
     "text": [
      "/Users/luciananieto/miniconda3/envs/py37/lib/python3.7/site-packages/sklearn/metrics/_classification.py:1221: UndefinedMetricWarning: Precision and F-score are ill-defined and being set to 0.0 in labels with no predicted samples. Use `zero_division` parameter to control this behavior.\n",
      "  _warn_prf(average, modifier, msg_start, len(result))\n"
     ]
    }
   ],
   "source": [
    "clf_RF=RandomForestClassifier(bootstrap=True,\n",
    " #max_depth=50,\n",
    " #max_features= 7,\n",
    " #min_samples_leaf= 2,\n",
    " #min_samples_split= 4,\n",
    " n_estimators= 50,random_state=0)\n",
    "clf_RF.fit(X_train, y_train)\n",
    "\n",
    "y_pred_rf = clf_RF.predict(X_test)\n",
    "\n",
    "y_pred2_rf = clf_RF.predict(X_train)\n",
    "\n",
    "report = metrics.classification_report(y_test,y_pred_rf, output_dict=True)\n",
    "report_rf = pd.DataFrame(report).transpose()\n",
    "\n",
    "#save report\n",
    "#report_rf.to_csv('/Users/luciananieto/2021/Planet_2021/Classification/Reports_python/report_RF_all.csv',index=False)\n",
    "print(report_rf)\n",
    "cm =metrics.confusion_matrix(y_test,y_pred_rf)\n",
    "\n",
    "print(cm)\n"
   ]
  },
  {
   "cell_type": "markdown",
   "metadata": {},
   "source": [
    "## Using only VI (5)"
   ]
  },
  {
   "cell_type": "code",
   "execution_count": 63,
   "metadata": {},
   "outputs": [
    {
     "name": "stdout",
     "output_type": "stream",
     "text": [
      "          CVI       EVI      GCVI      NDVI       NGI\n",
      "0    0.251997  0.381383  0.169288  0.469060  0.653405\n",
      "1    0.214612  0.290559  0.128465  0.380633  0.718984\n",
      "2    0.110868  0.122110  0.048363  0.170529  0.869690\n",
      "3    0.322422  0.527834  0.268184  0.619363  0.519540\n",
      "4    0.335738  0.571011  0.302815  0.624869  0.493048\n",
      "..        ...       ...       ...       ...       ...\n",
      "778  0.132607  0.057711  0.044229  0.107156  0.865337\n",
      "779  0.090915  0.027184  0.024315  0.056861  0.909575\n",
      "780  0.078768  0.038115  0.023608  0.068605  0.917946\n",
      "781  0.075491  0.038072  0.022636  0.067921  0.921246\n",
      "782  0.045377  0.066465  0.023206  0.093144  0.942390\n",
      "\n",
      "[783 rows x 5 columns]\n"
     ]
    }
   ],
   "source": [
    "Xvw= df.iloc[:,[9,10,11,12,13]]\n",
    "Yvw = df.iloc[:,0]\n",
    "print (Xvw)"
   ]
  },
  {
   "cell_type": "code",
   "execution_count": 64,
   "metadata": {},
   "outputs": [
    {
     "name": "stdout",
     "output_type": "stream",
     "text": [
      "          CVI       EVI      GCVI      NDVI       NGI\n",
      "563  0.479044  0.684746  0.436583  0.769737  0.334236\n",
      "11   0.335362  0.458155  0.227479  0.559083  0.560384\n",
      "214  0.179894  0.467436  0.197115  0.559141  0.639898\n",
      "88   0.255267  0.343676  0.188858  0.395252  0.657300\n",
      "639  0.583093  0.705144  0.509459  0.796819  0.276783\n",
      "..        ...       ...       ...       ...       ...\n",
      "715  0.556463  0.655795  0.547378  0.733529  0.288595\n",
      "767  0.338883  0.449206  0.235299  0.546774  0.557018\n",
      "72   0.275572  0.370395  0.225123  0.440561  0.627177\n",
      "235  0.853550  0.836423  0.841622  0.897162  0.096396\n",
      "37   0.155506  0.139211  0.068646  0.217878  0.821304\n",
      "\n",
      "[548 rows x 5 columns]\n"
     ]
    },
    {
     "ename": "NameError",
     "evalue": "name 'XGBClassifier' is not defined",
     "output_type": "error",
     "traceback": [
      "\u001b[0;31m---------------------------------------------------------------------------\u001b[0m",
      "\u001b[0;31mNameError\u001b[0m                                 Traceback (most recent call last)",
      "\u001b[0;32m<ipython-input-64-3d2888a093ee>\u001b[0m in \u001b[0;36m<module>\u001b[0;34m\u001b[0m\n\u001b[1;32m      8\u001b[0m \u001b[0mprint\u001b[0m\u001b[0;34m(\u001b[0m\u001b[0mX_train\u001b[0m\u001b[0;34m)\u001b[0m\u001b[0;34m\u001b[0m\u001b[0;34m\u001b[0m\u001b[0m\n\u001b[1;32m      9\u001b[0m \u001b[0;31m# fit model no training data\u001b[0m\u001b[0;34m\u001b[0m\u001b[0;34m\u001b[0m\u001b[0;34m\u001b[0m\u001b[0m\n\u001b[0;32m---> 10\u001b[0;31m \u001b[0mmodel\u001b[0m \u001b[0;34m=\u001b[0m \u001b[0mXGBClassifier\u001b[0m\u001b[0;34m(\u001b[0m\u001b[0;34m)\u001b[0m\u001b[0;34m\u001b[0m\u001b[0;34m\u001b[0m\u001b[0m\n\u001b[0m\u001b[1;32m     11\u001b[0m \u001b[0mmodel\u001b[0m\u001b[0;34m.\u001b[0m\u001b[0mfit\u001b[0m\u001b[0;34m(\u001b[0m\u001b[0mX_train\u001b[0m\u001b[0;34m,\u001b[0m \u001b[0my_train\u001b[0m\u001b[0;34m)\u001b[0m\u001b[0;34m\u001b[0m\u001b[0;34m\u001b[0m\u001b[0m\n\u001b[1;32m     12\u001b[0m \u001b[0;31m# make predictions for test data\u001b[0m\u001b[0;34m\u001b[0m\u001b[0;34m\u001b[0m\u001b[0;34m\u001b[0m\u001b[0m\n",
      "\u001b[0;31mNameError\u001b[0m: name 'XGBClassifier' is not defined"
     ]
    }
   ],
   "source": [
    "#XGBoost\n",
    "\n",
    "# split data into train and test sets\n",
    "seed = 1\n",
    "test_size = 0.30\n",
    "X_train, X_test, y_train, y_test = train_test_split(Xvw, Yvw, test_size=test_size, random_state=seed)\n",
    "\n",
    "print(X_train)\n",
    "# fit model no training data\n",
    "model = XGBClassifier()\n",
    "model.fit(X_train, y_train)\n",
    "# make predictions for test data\n",
    "y_pred = model.predict(X_test)\n",
    "\n",
    "report = metrics.classification_report(y_test,y_pred, output_dict=True)\n",
    "report_rf = pd.DataFrame(report).transpose()\n",
    "\n",
    "#save report\n",
    "#report_rf.to_csv('/Users/luciananieto/2021/Planet_2021/Classification/Reports_python/report_XG_only_W.csv',index=False)\n",
    "print(report_rf)\n",
    "cm =metrics.confusion_matrix(y_test,y_pred)\n",
    "\n",
    "print(cm)"
   ]
  },
  {
   "cell_type": "code",
   "execution_count": 65,
   "metadata": {},
   "outputs": [
    {
     "name": "stdout",
     "output_type": "stream",
     "text": [
      "          CVI       EVI      GCVI      NDVI       NGI\n",
      "563  0.479044  0.684746  0.436583  0.769737  0.334236\n",
      "11   0.335362  0.458155  0.227479  0.559083  0.560384\n",
      "214  0.179894  0.467436  0.197115  0.559141  0.639898\n",
      "88   0.255267  0.343676  0.188858  0.395252  0.657300\n",
      "639  0.583093  0.705144  0.509459  0.796819  0.276783\n",
      "..        ...       ...       ...       ...       ...\n",
      "715  0.556463  0.655795  0.547378  0.733529  0.288595\n",
      "767  0.338883  0.449206  0.235299  0.546774  0.557018\n",
      "72   0.275572  0.370395  0.225123  0.440561  0.627177\n",
      "235  0.853550  0.836423  0.841622  0.897162  0.096396\n",
      "37   0.155506  0.139211  0.068646  0.217878  0.821304\n",
      "\n",
      "[548 rows x 5 columns]\n",
      "              precision    recall  f1-score     support\n",
      "R1             0.166667  0.157895  0.162162   19.000000\n",
      "R2             0.181818  0.400000  0.250000    5.000000\n",
      "R3             0.333333  0.181818  0.235294   11.000000\n",
      "R4             0.388889  0.777778  0.518519    9.000000\n",
      "R5             0.421053  0.444444  0.432432   18.000000\n",
      "R6             0.692308  0.750000  0.720000   12.000000\n",
      "V1             0.142857  0.142857  0.142857    7.000000\n",
      "V10            0.142857  0.142857  0.142857    7.000000\n",
      "V11            0.250000  0.100000  0.142857   10.000000\n",
      "V12            0.285714  0.200000  0.235294   10.000000\n",
      "V13            0.000000  0.000000  0.000000    6.000000\n",
      "V15            0.250000  0.142857  0.181818    7.000000\n",
      "V16            0.000000  0.000000  0.000000    1.000000\n",
      "V2             0.125000  0.142857  0.133333    7.000000\n",
      "V3             0.000000  0.000000  0.000000    6.000000\n",
      "V4             0.176471  0.250000  0.206897   12.000000\n",
      "V5             0.100000  0.125000  0.111111    8.000000\n",
      "V6             0.333333  0.411765  0.368421   17.000000\n",
      "V7             0.500000  0.214286  0.300000   14.000000\n",
      "V8             0.333333  0.250000  0.285714   12.000000\n",
      "V9             0.071429  0.250000  0.111111    4.000000\n",
      "VE             0.526316  0.500000  0.512821   20.000000\n",
      "VT             0.400000  0.153846  0.222222   13.000000\n",
      "accuracy       0.289362  0.289362  0.289362    0.289362\n",
      "macro avg      0.253103  0.249490  0.235466  235.000000\n",
      "weighted avg   0.309394  0.289362  0.284470  235.000000\n",
      "[[ 3  3  3  3  3  1  0  0  0  0  1  0  0  0  0  0  0  1  0  0  0  0  1]\n",
      " [ 2  2  0  1  0  0  0  0  0  0  0  0  0  0  0  0  0  0  0  0  0  0  0]\n",
      " [ 1  3  2  2  1  0  0  0  0  0  0  0  0  0  0  0  0  0  0  2  0  0  0]\n",
      " [ 0  0  1  7  1  0  0  0  0  0  0  0  0  0  0  0  0  0  0  0  0  0  0]\n",
      " [ 3  1  0  2  8  1  0  1  0  0  0  0  0  0  0  0  0  1  0  0  1  0  0]\n",
      " [ 0  0  0  0  1  9  0  0  0  0  0  0  0  0  0  0  1  0  0  1  0  0  0]\n",
      " [ 0  0  0  0  0  0  1  0  0  0  0  0  0  2  1  1  0  0  0  0  0  2  0]\n",
      " [ 0  0  0  0  0  1  0  1  1  0  1  0  0  0  0  0  0  0  0  0  3  0  0]\n",
      " [ 0  0  0  0  2  0  0  0  1  0  0  2  0  0  0  0  0  1  0  1  3  0  0]\n",
      " [ 1  0  0  0  2  0  0  1  2  2  1  1  0  0  0  0  0  0  0  0  0  0  0]\n",
      " [ 2  1  0  1  0  0  0  1  0  0  0  0  0  0  0  0  0  0  0  0  0  0  1]\n",
      " [ 1  0  0  0  0  0  0  1  0  2  1  1  0  0  0  0  0  0  0  0  0  0  1]\n",
      " [ 0  1  0  0  0  0  0  0  0  0  0  0  0  0  0  0  0  0  0  0  0  0  0]\n",
      " [ 0  0  0  0  0  0  0  0  0  0  0  0  0  1  2  2  0  0  0  0  0  2  0]\n",
      " [ 0  0  0  0  0  0  2  0  0  0  0  0  0  1  0  2  0  0  1  0  0  0  0]\n",
      " [ 0  0  0  0  0  0  0  0  0  0  0  0  0  1  0  3  3  2  0  0  0  3  0]\n",
      " [ 0  0  0  0  0  0  0  0  0  0  0  0  0  1  2  2  1  2  0  0  0  0  0]\n",
      " [ 0  0  0  0  0  0  2  0  0  0  0  0  0  0  0  1  2  7  0  1  2  2  0]\n",
      " [ 0  0  0  0  0  0  0  0  0  0  0  0  0  0  1  2  2  3  3  0  3  0  0]\n",
      " [ 0  0  0  0  1  0  0  1  0  1  0  0  0  0  0  0  1  3  1  3  1  0  0]\n",
      " [ 0  0  0  0  0  1  0  0  0  0  0  0  0  0  0  0  0  1  1  0  1  0  0]\n",
      " [ 0  0  0  0  0  0  2  0  0  0  0  0  0  2  1  4  0  0  0  1  0 10  0]\n",
      " [ 5  0  0  2  0  0  0  1  0  2  1  0  0  0  0  0  0  0  0  0  0  0  2]]\n"
     ]
    },
    {
     "name": "stderr",
     "output_type": "stream",
     "text": [
      "/Users/luciananieto/miniconda3/envs/py37/lib/python3.7/site-packages/sklearn/metrics/_classification.py:1221: UndefinedMetricWarning: Precision and F-score are ill-defined and being set to 0.0 in labels with no predicted samples. Use `zero_division` parameter to control this behavior.\n",
      "  _warn_prf(average, modifier, msg_start, len(result))\n"
     ]
    }
   ],
   "source": [
    "# split data into train and test sets\n",
    "seed = 1\n",
    "test_size = 0.30\n",
    "X_train, X_test, y_train, y_test = train_test_split(Xvw, Yvw, test_size=test_size, random_state=seed)\n",
    "\n",
    "\n",
    "#Random Forest\n",
    "clf_RF=RandomForestClassifier(bootstrap=True,\n",
    "                              #max_depth=50,\n",
    " #max_features= 7,\n",
    " #min_samples_leaf= 2,\n",
    " #min_samples_split= 4,\n",
    " n_estimators= 50,random_state=0)\n",
    "clf_RF.fit(X_train, y_train)\n",
    "\n",
    "print(X_train)\n",
    "y_pred_rf = clf_RF.predict(X_test)\n",
    "\n",
    "report = metrics.classification_report(y_test,y_pred_rf, output_dict=True)\n",
    "report_rf = pd.DataFrame(report).transpose()\n",
    "\n",
    "#save report\n",
    "#report_rf.to_csv('/Users/luciananieto/2021/Planet_2021/Classification/Reports_python/report_RF_sentinel_match.csv',index=False)\n",
    "print(report_rf)\n",
    "cm =metrics.confusion_matrix(y_test,y_pred_rf)\n",
    "\n",
    "print(cm)\n",
    "\n",
    "\n"
   ]
  },
  {
   "cell_type": "code",
   "execution_count": 66,
   "metadata": {},
   "outputs": [
    {
     "name": "stdout",
     "output_type": "stream",
     "text": [
      "          CVI       EVI      GCVI      NDVI       NGI\n",
      "563  0.479044  0.684746  0.436583  0.769737  0.334236\n",
      "11   0.335362  0.458155  0.227479  0.559083  0.560384\n",
      "214  0.179894  0.467436  0.197115  0.559141  0.639898\n",
      "88   0.255267  0.343676  0.188858  0.395252  0.657300\n",
      "639  0.583093  0.705144  0.509459  0.796819  0.276783\n",
      "..        ...       ...       ...       ...       ...\n",
      "715  0.556463  0.655795  0.547378  0.733529  0.288595\n",
      "767  0.338883  0.449206  0.235299  0.546774  0.557018\n",
      "72   0.275572  0.370395  0.225123  0.440561  0.627177\n",
      "235  0.853550  0.836423  0.841622  0.897162  0.096396\n",
      "37   0.155506  0.139211  0.068646  0.217878  0.821304\n",
      "\n",
      "[548 rows x 5 columns]\n",
      "              precision    recall  f1-score     support\n",
      "R1             0.166667  0.157895  0.162162   19.000000\n",
      "R2             0.181818  0.400000  0.250000    5.000000\n",
      "R3             0.333333  0.181818  0.235294   11.000000\n",
      "R4             0.388889  0.777778  0.518519    9.000000\n",
      "R5             0.421053  0.444444  0.432432   18.000000\n",
      "R6             0.692308  0.750000  0.720000   12.000000\n",
      "V1             0.142857  0.142857  0.142857    7.000000\n",
      "V10            0.142857  0.142857  0.142857    7.000000\n",
      "V11            0.250000  0.100000  0.142857   10.000000\n",
      "V12            0.285714  0.200000  0.235294   10.000000\n",
      "V13            0.000000  0.000000  0.000000    6.000000\n",
      "V15            0.250000  0.142857  0.181818    7.000000\n",
      "V16            0.000000  0.000000  0.000000    1.000000\n",
      "V2             0.125000  0.142857  0.133333    7.000000\n",
      "V3             0.000000  0.000000  0.000000    6.000000\n",
      "V4             0.176471  0.250000  0.206897   12.000000\n",
      "V5             0.100000  0.125000  0.111111    8.000000\n",
      "V6             0.333333  0.411765  0.368421   17.000000\n",
      "V7             0.500000  0.214286  0.300000   14.000000\n",
      "V8             0.333333  0.250000  0.285714   12.000000\n",
      "V9             0.071429  0.250000  0.111111    4.000000\n",
      "VE             0.526316  0.500000  0.512821   20.000000\n",
      "VT             0.400000  0.153846  0.222222   13.000000\n",
      "accuracy       0.289362  0.289362  0.289362    0.289362\n",
      "macro avg      0.253103  0.249490  0.235466  235.000000\n",
      "weighted avg   0.309394  0.289362  0.284470  235.000000\n",
      "[[ 3  3  3  3  3  1  0  0  0  0  1  0  0  0  0  0  0  1  0  0  0  0  1]\n",
      " [ 2  2  0  1  0  0  0  0  0  0  0  0  0  0  0  0  0  0  0  0  0  0  0]\n",
      " [ 1  3  2  2  1  0  0  0  0  0  0  0  0  0  0  0  0  0  0  2  0  0  0]\n",
      " [ 0  0  1  7  1  0  0  0  0  0  0  0  0  0  0  0  0  0  0  0  0  0  0]\n",
      " [ 3  1  0  2  8  1  0  1  0  0  0  0  0  0  0  0  0  1  0  0  1  0  0]\n",
      " [ 0  0  0  0  1  9  0  0  0  0  0  0  0  0  0  0  1  0  0  1  0  0  0]\n",
      " [ 0  0  0  0  0  0  1  0  0  0  0  0  0  2  1  1  0  0  0  0  0  2  0]\n",
      " [ 0  0  0  0  0  1  0  1  1  0  1  0  0  0  0  0  0  0  0  0  3  0  0]\n",
      " [ 0  0  0  0  2  0  0  0  1  0  0  2  0  0  0  0  0  1  0  1  3  0  0]\n",
      " [ 1  0  0  0  2  0  0  1  2  2  1  1  0  0  0  0  0  0  0  0  0  0  0]\n",
      " [ 2  1  0  1  0  0  0  1  0  0  0  0  0  0  0  0  0  0  0  0  0  0  1]\n",
      " [ 1  0  0  0  0  0  0  1  0  2  1  1  0  0  0  0  0  0  0  0  0  0  1]\n",
      " [ 0  1  0  0  0  0  0  0  0  0  0  0  0  0  0  0  0  0  0  0  0  0  0]\n",
      " [ 0  0  0  0  0  0  0  0  0  0  0  0  0  1  2  2  0  0  0  0  0  2  0]\n",
      " [ 0  0  0  0  0  0  2  0  0  0  0  0  0  1  0  2  0  0  1  0  0  0  0]\n",
      " [ 0  0  0  0  0  0  0  0  0  0  0  0  0  1  0  3  3  2  0  0  0  3  0]\n",
      " [ 0  0  0  0  0  0  0  0  0  0  0  0  0  1  2  2  1  2  0  0  0  0  0]\n",
      " [ 0  0  0  0  0  0  2  0  0  0  0  0  0  0  0  1  2  7  0  1  2  2  0]\n",
      " [ 0  0  0  0  0  0  0  0  0  0  0  0  0  0  1  2  2  3  3  0  3  0  0]\n",
      " [ 0  0  0  0  1  0  0  1  0  1  0  0  0  0  0  0  1  3  1  3  1  0  0]\n",
      " [ 0  0  0  0  0  1  0  0  0  0  0  0  0  0  0  0  0  1  1  0  1  0  0]\n",
      " [ 0  0  0  0  0  0  2  0  0  0  0  0  0  2  1  4  0  0  0  1  0 10  0]\n",
      " [ 5  0  0  2  0  0  0  1  0  2  1  0  0  0  0  0  0  0  0  0  0  0  2]]\n"
     ]
    },
    {
     "name": "stderr",
     "output_type": "stream",
     "text": [
      "/Users/luciananieto/miniconda3/envs/py37/lib/python3.7/site-packages/sklearn/metrics/_classification.py:1221: UndefinedMetricWarning: Precision and F-score are ill-defined and being set to 0.0 in labels with no predicted samples. Use `zero_division` parameter to control this behavior.\n",
      "  _warn_prf(average, modifier, msg_start, len(result))\n"
     ]
    }
   ],
   "source": [
    "# split data into train and test sets\n",
    "seed = 1\n",
    "test_size = 0.30\n",
    "X_train, X_test, y_train, y_test = train_test_split(Xvw, Yvw, test_size=test_size, random_state=seed)\n",
    "\n",
    "\n",
    "#Random Forest\n",
    "clf_RF=RandomForestClassifier(bootstrap=True,\n",
    "                              #max_depth=50,\n",
    " #max_features= 7,\n",
    " #min_samples_leaf= 2,\n",
    " #min_samples_split= 4,\n",
    " n_estimators= 50,random_state=0)\n",
    "clf_RF.fit(X_train, y_train)\n",
    "\n",
    "print(X_train)\n",
    "y_pred_rf = clf_RF.predict(X_test)\n",
    "\n",
    "report = metrics.classification_report(y_test,y_pred_rf, output_dict=True)\n",
    "report_rf = pd.DataFrame(report).transpose()\n",
    "\n",
    "#save report\n",
    "#report_rf.to_csv('/Users/luciananieto/2021/Planet_2021/Classification/Reports_python/report_RF_only_W.csv',index=False)\n",
    "print(report_rf)\n",
    "cm =metrics.confusion_matrix(y_test,y_pred_rf)\n",
    "\n",
    "print(cm)\n",
    "\n",
    "\n"
   ]
  },
  {
   "cell_type": "code",
   "execution_count": 67,
   "metadata": {},
   "outputs": [
    {
     "name": "stdout",
     "output_type": "stream",
     "text": [
      "Confusion matrix, landsat_NDVI+3Weather\n",
      "[[ 3  3  3  3  3  1  0  0  0  0  1  0  0  0  0  0  0  1  0  0  0  0  1]\n",
      " [ 2  2  0  1  0  0  0  0  0  0  0  0  0  0  0  0  0  0  0  0  0  0  0]\n",
      " [ 1  3  2  2  1  0  0  0  0  0  0  0  0  0  0  0  0  0  0  2  0  0  0]\n",
      " [ 0  0  1  7  1  0  0  0  0  0  0  0  0  0  0  0  0  0  0  0  0  0  0]\n",
      " [ 3  1  0  2  8  1  0  1  0  0  0  0  0  0  0  0  0  1  0  0  1  0  0]\n",
      " [ 0  0  0  0  1  9  0  0  0  0  0  0  0  0  0  0  1  0  0  1  0  0  0]\n",
      " [ 0  0  0  0  0  0  1  0  0  0  0  0  0  2  1  1  0  0  0  0  0  2  0]\n",
      " [ 0  0  0  0  0  1  0  1  1  0  1  0  0  0  0  0  0  0  0  0  3  0  0]\n",
      " [ 0  0  0  0  2  0  0  0  1  0  0  2  0  0  0  0  0  1  0  1  3  0  0]\n",
      " [ 1  0  0  0  2  0  0  1  2  2  1  1  0  0  0  0  0  0  0  0  0  0  0]\n",
      " [ 2  1  0  1  0  0  0  1  0  0  0  0  0  0  0  0  0  0  0  0  0  0  1]\n",
      " [ 1  0  0  0  0  0  0  1  0  2  1  1  0  0  0  0  0  0  0  0  0  0  1]\n",
      " [ 0  1  0  0  0  0  0  0  0  0  0  0  0  0  0  0  0  0  0  0  0  0  0]\n",
      " [ 0  0  0  0  0  0  0  0  0  0  0  0  0  1  2  2  0  0  0  0  0  2  0]\n",
      " [ 0  0  0  0  0  0  2  0  0  0  0  0  0  1  0  2  0  0  1  0  0  0  0]\n",
      " [ 0  0  0  0  0  0  0  0  0  0  0  0  0  1  0  3  3  2  0  0  0  3  0]\n",
      " [ 0  0  0  0  0  0  0  0  0  0  0  0  0  1  2  2  1  2  0  0  0  0  0]\n",
      " [ 0  0  0  0  0  0  2  0  0  0  0  0  0  0  0  1  2  7  0  1  2  2  0]\n",
      " [ 0  0  0  0  0  0  0  0  0  0  0  0  0  0  1  2  2  3  3  0  3  0  0]\n",
      " [ 0  0  0  0  1  0  0  1  0  1  0  0  0  0  0  0  1  3  1  3  1  0  0]\n",
      " [ 0  0  0  0  0  1  0  0  0  0  0  0  0  0  0  0  0  1  1  0  1  0  0]\n",
      " [ 0  0  0  0  0  0  2  0  0  0  0  0  0  2  1  4  0  0  0  1  0 10  0]\n",
      " [ 5  0  0  2  0  0  0  1  0  2  1  0  0  0  0  0  0  0  0  0  0  0  2]]\n"
     ]
    },
    {
     "data": {
      "image/png": "[encoded data removed]",
      "text/plain": [
       "<Figure size 842.4x595.44 with 2 Axes>"
      ]
     },
     "metadata": {},
     "output_type": "display_data"
    }
   ],
   "source": [
    "from sklearn.metrics import confusion_matrix\n",
    "GrowthStages= ['R4', 'V13','V19','VT'] \n",
    "def plot_confusion_matrix(cm, names, title='Confusion matrix', cmap=plt.cm.Blues):\n",
    "    plt.imshow(cm, interpolation='nearest', cmap=cmap)\n",
    "    plt.title(title)\n",
    "    plt.colorbar()\n",
    "    tick_marks = np.arange(len(GrowthStages))\n",
    "    plt.xticks(tick_marks, GrowthStages, rotation=45)\n",
    "    plt.yticks(tick_marks, GrowthStages)\n",
    "    plt.tight_layout()\n",
    "    plt.ylabel('True label')\n",
    "    plt.xlabel('Predicted label')\n",
    "\n",
    "\n",
    "cm = confusion_matrix(y_test,y_pred_rf)\n",
    "np.set_printoptions(precision=1)\n",
    "print('Confusion matrix, landsat_NDVI+3Weather')\n",
    "print(cm)\n",
    "plt.figure()\n",
    "plot_confusion_matrix(cm, GrowthStages)"
   ]
  },
  {
   "cell_type": "markdown",
   "metadata": {},
   "source": [
    "# one VI and weather parameters "
   ]
  },
  {
   "cell_type": "code",
   "execution_count": 73,
   "metadata": {},
   "outputs": [
    {
     "data": {
      "text/plain": [
       "Index(['Unnamed: 0', 'B1', 'B2', 'B3', 'B4', 'CVI', 'EVI', 'FID_1', 'GCVI',\n",
       "       'ID', 'NDVI', 'NGI', 'Q1', 'Q2', 'Q3', 'Q4', 'Shape_Area', 'Shape_Le_1',\n",
       "       'Shape_Leng', 'stage', 'constant', 'crop', 'latitude', 'longitude',\n",
       "       'pr', 'tmmn', 'tmmx', 'vpd', 'year', '.geo'],\n",
       "      dtype='object')"
      ]
     },
     "execution_count": 73,
     "metadata": {},
     "output_type": "execute_result"
    }
   ],
   "source": [
    "df.columns\n"
   ]
  },
  {
   "cell_type": "code",
   "execution_count": 74,
   "metadata": {},
   "outputs": [],
   "source": [
    "df= df.drop (['Unnamed: 0', 'Shape_Area', 'Shape_Leng', 'Shape_Le_1','FID_1','crop','.geo'], axis=1)"
   ]
  },
  {
   "cell_type": "code",
   "execution_count": 75,
   "metadata": {},
   "outputs": [
    {
     "data": {
      "text/plain": [
       "Index(['B1', 'B2', 'B3', 'B4', 'CVI', 'EVI', 'GCVI', 'ID', 'NDVI', 'NGI', 'Q1',\n",
       "       'Q2', 'Q3', 'Q4', 'stage', 'constant', 'latitude', 'longitude', 'pr',\n",
       "       'tmmn', 'tmmx', 'vpd', 'year'],\n",
       "      dtype='object')"
      ]
     },
     "execution_count": 75,
     "metadata": {},
     "output_type": "execute_result"
    }
   ],
   "source": [
    "df.columns"
   ]
  },
  {
   "cell_type": "code",
   "execution_count": 76,
   "metadata": {},
   "outputs": [],
   "source": [
    "\n",
    "df = df[['stage','B1', 'B2', 'B3', 'B4',  \n",
    "         'Q1','Q2', 'Q3', 'Q4',\n",
    "         'CVI', 'EVI', 'GCVI', 'NDVI', 'NGI',  \n",
    "         'pr', 'tmmn', 'tmmx', 'vpd',\n",
    "         'ID','constant',  'latitude', 'longitude',\n",
    "       'year']]"
   ]
  },
  {
   "cell_type": "code",
   "execution_count": 77,
   "metadata": {},
   "outputs": [
    {
     "name": "stdout",
     "output_type": "stream",
     "text": [
      "         NDVI        tmmn        tmmx       vpd\n",
      "0    0.535351  294.165540  306.765526  1.693106\n",
      "1    0.474464  294.299988  307.100006  1.750000\n",
      "2    0.329791  294.273490  307.073500  1.744699\n",
      "3    0.638846  288.700012  304.000000  1.820000\n",
      "4    0.642638  288.700012  304.000000  1.820000\n",
      "..        ...         ...         ...       ...\n",
      "778  0.286154  288.299988  304.000000  1.680000\n",
      "779  0.251522  279.700014  295.833888  0.989960\n",
      "780  0.259609  279.700012  295.704874  0.980486\n",
      "781  0.259138  279.700012  295.706693  0.980668\n",
      "782  0.276506  279.826190  295.847597  0.990000\n",
      "\n",
      "[783 rows x 4 columns]\n"
     ]
    }
   ],
   "source": [
    "Xvw= df.iloc[:,[12,15,16,17]]\n",
    "Yvw = df.iloc[:,0]\n",
    "print (Xvw)"
   ]
  },
  {
   "cell_type": "code",
   "execution_count": 78,
   "metadata": {},
   "outputs": [
    {
     "name": "stdout",
     "output_type": "stream",
     "text": [
      "         NDVI        tmmn        tmmx       vpd\n",
      "563  0.742390  288.726226  303.782486  1.667377\n",
      "11   0.597339  288.504864  303.899994  1.780000\n",
      "214  0.597379  278.835376  294.929224  0.870000\n",
      "88   0.484529  292.982096  306.182108  1.508210\n",
      "639  0.761038  293.578782  306.057558  1.541511\n",
      "..        ...         ...         ...       ...\n",
      "715  0.717458  290.799988  305.000000  1.530000\n",
      "767  0.588864  294.200012  309.000000  2.370000\n",
      "72   0.515728  295.146301  310.464192  2.479258\n",
      "235  0.830132  292.399994  303.100006  1.110000\n",
      "37   0.362395  287.200012  301.100006  1.240000\n",
      "\n",
      "[548 rows x 4 columns]\n",
      "              precision    recall  f1-score     support\n",
      "R1             0.391304  0.473684  0.428571   19.000000\n",
      "R2             0.250000  0.400000  0.307692    5.000000\n",
      "R3             0.600000  0.545455  0.571429   11.000000\n",
      "R4             0.583333  0.777778  0.666667    9.000000\n",
      "R5             0.812500  0.722222  0.764706   18.000000\n",
      "R6             1.000000  0.583333  0.736842   12.000000\n",
      "V1             0.153846  0.285714  0.200000    7.000000\n",
      "V10            0.500000  0.428571  0.461538    7.000000\n",
      "V11            0.400000  0.400000  0.400000   10.000000\n",
      "V12            0.500000  0.200000  0.285714   10.000000\n",
      "V13            0.166667  0.166667  0.166667    6.000000\n",
      "V14            0.000000  0.000000  0.000000    0.000000\n",
      "V15            0.125000  0.142857  0.133333    7.000000\n",
      "V16            0.000000  0.000000  0.000000    1.000000\n",
      "V2             0.200000  0.285714  0.235294    7.000000\n",
      "V3             0.600000  0.500000  0.545455    6.000000\n",
      "V4             0.384615  0.416667  0.400000   12.000000\n",
      "V5             0.125000  0.250000  0.166667    8.000000\n",
      "V6             0.307692  0.235294  0.266667   17.000000\n",
      "V7             0.375000  0.214286  0.272727   14.000000\n",
      "V8             0.333333  0.166667  0.222222   12.000000\n",
      "V9             0.285714  0.500000  0.363636    4.000000\n",
      "VE             0.750000  0.750000  0.750000   20.000000\n",
      "VT             0.416667  0.384615  0.400000   13.000000\n",
      "accuracy       0.425532  0.425532  0.425532    0.425532\n",
      "macro avg      0.385861  0.367897  0.364409  235.000000\n",
      "weighted avg   0.464968  0.425532  0.432855  235.000000\n",
      "[[ 9  5  0  0  0  0  0  0  0  0  0  0  2  0  0  0  0  0  1  0  0  0  0  2]\n",
      " [ 1  2  2  0  0  0  0  0  0  0  0  0  0  0  0  0  0  0  0  0  0  0  0  0]\n",
      " [ 0  1  6  4  0  0  0  0  0  0  0  0  0  0  0  0  0  0  0  0  0  0  0  0]\n",
      " [ 1  0  1  7  0  0  0  0  0  0  0  0  0  0  0  0  0  0  0  0  0  0  0  0]\n",
      " [ 0  0  1  1 13  0  0  0  0  1  0  0  0  0  0  0  0  2  0  0  0  0  0  0]\n",
      " [ 0  0  0  0  2  7  0  0  0  0  0  0  0  0  0  0  0  2  0  0  0  0  1  0]\n",
      " [ 0  0  0  0  0  0  2  0  0  0  0  0  0  0  1  0  0  0  0  0  0  0  4  0]\n",
      " [ 0  0  0  0  0  0  0  3  2  0  0  0  1  0  0  0  0  0  0  0  1  0  0  0]\n",
      " [ 0  0  0  0  0  0  0  1  4  1  1  0  2  0  0  0  0  0  0  0  0  1  0  0]\n",
      " [ 1  0  0  0  1  0  0  2  0  2  3  0  1  0  0  0  0  0  0  0  0  0  0  0]\n",
      " [ 0  0  0  0  0  0  0  0  0  0  1  1  0  0  0  0  0  0  0  0  0  0  0  4]\n",
      " [ 0  0  0  0  0  0  0  0  0  0  0  0  0  0  0  0  0  0  0  0  0  0  0  0]\n",
      " [ 3  0  0  0  0  0  0  0  0  0  1  1  1  0  0  0  0  0  0  0  0  0  0  1]\n",
      " [ 1  0  0  0  0  0  0  0  0  0  0  0  0  0  0  0  0  0  0  0  0  0  0  0]\n",
      " [ 0  0  0  0  0  0  2  0  0  0  0  0  0  0  2  1  2  0  0  0  0  0  0  0]\n",
      " [ 0  0  0  0  0  0  0  0  0  0  0  0  0  0  2  3  0  1  0  0  0  0  0  0]\n",
      " [ 0  0  0  0  0  0  1  0  0  0  0  0  0  0  2  0  5  3  0  0  0  1  0  0]\n",
      " [ 0  0  0  0  0  0  0  0  0  0  0  0  0  0  0  0  3  2  3  0  0  0  0  0]\n",
      " [ 0  0  0  0  0  0  2  0  1  0  0  0  0  0  1  1  1  3  4  4  0  0  0  0]\n",
      " [ 0  0  0  0  0  0  3  0  0  0  0  0  0  0  1  0  0  2  3  3  2  0  0  0]\n",
      " [ 0  0  0  0  0  0  0  0  3  0  0  0  0  0  1  0  0  0  2  1  2  3  0  0]\n",
      " [ 0  0  0  0  0  0  0  0  0  0  0  0  0  0  0  0  1  0  0  0  1  2  0  0]\n",
      " [ 0  0  0  0  0  0  3  0  0  0  0  0  0  0  0  0  1  1  0  0  0  0 15  0]\n",
      " [ 7  0  0  0  0  0  0  0  0  0  0  0  1  0  0  0  0  0  0  0  0  0  0  5]]\n"
     ]
    },
    {
     "name": "stderr",
     "output_type": "stream",
     "text": [
      "/Users/luciananieto/miniconda3/envs/py37/lib/python3.7/site-packages/sklearn/metrics/_classification.py:1221: UndefinedMetricWarning: Precision and F-score are ill-defined and being set to 0.0 in labels with no predicted samples. Use `zero_division` parameter to control this behavior.\n",
      "  _warn_prf(average, modifier, msg_start, len(result))\n",
      "/Users/luciananieto/miniconda3/envs/py37/lib/python3.7/site-packages/sklearn/metrics/_classification.py:1221: UndefinedMetricWarning: Recall and F-score are ill-defined and being set to 0.0 in labels with no true samples. Use `zero_division` parameter to control this behavior.\n",
      "  _warn_prf(average, modifier, msg_start, len(result))\n"
     ]
    }
   ],
   "source": [
    "# split data into train and test sets\n",
    "seed = 1\n",
    "test_size = 0.30\n",
    "X_train, X_test, y_train, y_test = train_test_split(Xvw, Yvw, test_size=test_size, random_state=seed)\n",
    "\n",
    "\n",
    "#Random Forest\n",
    "clf_RF=RandomForestClassifier(bootstrap=True,\n",
    "                              #max_depth=50,\n",
    " #max_features= 7,\n",
    " #min_samples_leaf= 2,\n",
    " #min_samples_split= 4,\n",
    " n_estimators= 50,random_state=0)\n",
    "clf_RF.fit(X_train, y_train)\n",
    "\n",
    "print(X_train)\n",
    "y_pred_rf = clf_RF.predict(X_test)\n",
    "\n",
    "report = metrics.classification_report(y_test,y_pred_rf, output_dict=True)\n",
    "report_rf = pd.DataFrame(report).transpose()\n",
    "\n",
    "#save report\n",
    "#report_rf.to_csv('/Users/luciananieto/2021/Planet_2021/Classification/Reports_python/report_RF_sentinel_match.csv',index=False)\n",
    "print(report_rf)\n",
    "cm =metrics.confusion_matrix(y_test,y_pred_rf)\n",
    "\n",
    "print(cm)\n"
   ]
  },
  {
   "cell_type": "code",
   "execution_count": null,
   "metadata": {},
   "outputs": [],
   "source": []
  },
  {
   "cell_type": "markdown",
   "metadata": {},
   "source": [
    "## SMOTE test "
   ]
  },
  {
   "cell_type": "code",
   "execution_count": 665,
   "metadata": {},
   "outputs": [],
   "source": [
    "##pip install imbalanced-learn"
   ]
  },
  {
   "cell_type": "code",
   "execution_count": 739,
   "metadata": {},
   "outputs": [
    {
     "name": "stdout",
     "output_type": "stream",
     "text": [
      "Class=15, n=4 (1.170%)\n",
      "Class=16, n=6 (1.754%)\n",
      "Class=6, n=16 (4.678%)\n",
      "Class=7, n=2 (0.585%)\n",
      "Class=8, n=16 (4.678%)\n",
      "Class=9, n=29 (8.480%)\n",
      "Class=10, n=7 (2.047%)\n",
      "Class=11, n=8 (2.339%)\n",
      "Class=12, n=3 (0.877%)\n",
      "Class=13, n=12 (3.509%)\n",
      "Class=14, n=7 (2.047%)\n",
      "Class=17, n=8 (2.339%)\n",
      "Class=0, n=4 (1.170%)\n",
      "Class=1, n=13 (3.801%)\n",
      "Class=2, n=12 (3.509%)\n",
      "Class=3, n=31 (9.064%)\n",
      "Class=4, n=50 (14.620%)\n",
      "Class=5, n=114 (33.333%)\n"
     ]
    },
    {
     "data": {
      "image/png": "[encoded data removed]",
      "text/plain": [
       "<Figure size 842.4x595.44 with 1 Axes>"
      ]
     },
     "metadata": {},
     "output_type": "display_data"
    }
   ],
   "source": [
    "# load and summarize the dataset\n",
    "from pandas import read_csv\n",
    "from collections import Counter\n",
    "from matplotlib import pyplot\n",
    "from sklearn.preprocessing import LabelEncoder\n",
    "\n",
    "data = df.values\n",
    "# split into input and output elements\n",
    "\n",
    "# label encode the target variable\n",
    "y = LabelEncoder().fit_transform(Y)\n",
    "# summarize distribution\n",
    "counter = Counter(y)\n",
    "for k,v in counter.items():\n",
    "\tper = v / len(y) * 100\n",
    "\tprint('Class=%d, n=%d (%.3f%%)' % (k, v, per))\n",
    "# plot the distribution\n",
    "pyplot.bar(counter.keys(), counter.values())\n",
    "pyplot.xlabel('Stage')\n",
    "\n",
    "plt.ylabel('count')\n",
    "#plt.title('Histogram of IQ')\n",
    "\n",
    "plt.xlim(0,18)\n",
    "plt.ylim(0, 120)\n",
    "\n",
    "pyplot.show()\n",
    "\n"
   ]
  },
  {
   "cell_type": "code",
   "execution_count": 740,
   "metadata": {},
   "outputs": [
    {
     "name": "stdout",
     "output_type": "stream",
     "text": [
      "     constant   latitude   longitude          B1           B2           B3  \\\n",
      "0         151  37.587428 -101.521631  760.845348  1142.068462  1480.411582   \n",
      "1         152  37.647269 -101.438025  944.406772  1413.101128  1847.019765   \n",
      "2         153  37.581344 -101.640183  888.509264  1269.246296  1607.800076   \n",
      "3         153  37.499269 -101.576290  942.308931  1399.002046  1858.317705   \n",
      "4         154  37.406999 -101.622192  908.680951  1324.345643  1734.844414   \n",
      "..        ...        ...         ...         ...          ...          ...   \n",
      "337       285  37.439070 -101.575963  319.567649   525.897662   642.518203   \n",
      "338       290  37.529591 -101.612839  295.005396   503.946842   559.534064   \n",
      "339       290  37.555519 -101.626120  328.920389   534.701362   665.321451   \n",
      "340       290  37.461696 -101.551851  475.155297   709.940897   942.498181   \n",
      "341       290  37.420936 -101.658116  433.815741   662.019921   918.931543   \n",
      "\n",
      "              B4          Q1          Q2     Q3          Q4       NGI  \\\n",
      "0    2379.960971  100.000000  126.675324  255.0  255.000000  0.228195   \n",
      "1    3058.622041    2.377662  127.000000    1.0    2.000000  0.220613   \n",
      "2    2704.725149  100.000000  126.637705  255.0  255.000000  0.227324   \n",
      "3    3073.474937  100.000000  126.568588  255.0  255.000000  0.220752   \n",
      "4    2708.251469  100.000000  129.000000  255.0  255.000000  0.229614   \n",
      "..           ...         ...         ...    ...         ...       ...   \n",
      "337  1896.179339    1.000000  127.000000    1.0   13.000000  0.170693   \n",
      "338  2144.292321    1.000000  127.000000    1.0   22.000000  0.155327   \n",
      "339  1891.667032    1.000000  127.000000    1.0   23.000000  0.171105   \n",
      "340  2097.090897    1.000000  127.000000    1.0   20.000000  0.187739   \n",
      "341  2044.565567    1.000000  127.000000    1.0   18.586082  0.181879   \n",
      "\n",
      "          CVI       EVI      GCVI      NDVI        pr        tmmn        tmmx  \n",
      "0    2.702010  0.408367  2.724853  0.234225  0.000000  286.100006  304.249225  \n",
      "1    2.926930  0.468033  3.342948  0.259592  0.000000  286.100006  303.299988  \n",
      "2    2.700477  0.486060  2.841736  0.255143  0.000000  286.500000  301.399994  \n",
      "3    2.919799  0.432396  3.031772  0.248469  2.198251  286.589831  301.399994  \n",
      "4    2.679843  0.388179  2.618340  0.219610  3.169448  286.799988  301.200012  \n",
      "..        ...       ...       ...       ...       ...         ...         ...  \n",
      "337  4.442967  0.947408  6.698985  0.497748  0.000000  280.269799  305.084909  \n",
      "338  4.776844  1.236009  8.737271  0.590832  0.000000  276.100006  300.100006  \n",
      "339  4.502039  0.918199  6.651194  0.486229  0.000000  276.167919  299.916041  \n",
      "340  3.976944  0.713096  5.142331  0.387297  0.000000  275.799988  300.093131  \n",
      "341  4.353001  0.662577  5.358352  0.382454  0.000000  275.901546  299.850001  \n",
      "\n",
      "[342 rows x 19 columns]\n"
     ]
    }
   ],
   "source": [
    "# transform the dataset\n",
    "XvwSM= df.iloc[:,1:20]\n",
    "YvwSM = df.iloc[:,0]\n",
    "print (XvwSM)"
   ]
  },
  {
   "cell_type": "code",
   "execution_count": 745,
   "metadata": {},
   "outputs": [],
   "source": [
    "# split data into train and test sets\n",
    "seed = 7\n",
    "test_size = 0.30\n",
    "XSM_train, XSM_test, ySM_train, ySm_test = train_test_split(XvwSM, YvwSM, test_size=test_size, random_state=seed)\n"
   ]
  },
  {
   "cell_type": "code",
   "execution_count": 752,
   "metadata": {},
   "outputs": [
    {
     "name": "stdout",
     "output_type": "stream",
     "text": [
      "      constant   latitude   longitude          B1           B2           B3  \\\n",
      "0          251  37.297485 -101.651033  410.029967   757.309961   714.265523   \n",
      "1          262  37.457459 -101.612441  331.641895   601.975760   587.643385   \n",
      "2          158  37.340706 -101.416000  747.380307  1099.787779  1395.152286   \n",
      "3          242  37.393762 -101.457724  227.040705   495.371457   384.195310   \n",
      "4          242  37.399423 -101.485034  273.140676   564.325697   479.289119   \n",
      "...        ...        ...         ...         ...          ...          ...   \n",
      "1338       185  37.427981 -101.402799  786.298931  1152.721645  1397.254455   \n",
      "1339       186  37.468331 -101.516606  796.814218  1143.924566  1433.781824   \n",
      "1340       185  37.435777 -101.424345  787.082149  1149.284177  1400.785617   \n",
      "1341       187  37.459813 -101.510212  938.533017  1370.428404  1806.538163   \n",
      "1342       187  37.455831 -101.500504  933.730929  1363.976182  1794.535731   \n",
      "\n",
      "               B4          Q1          Q2          Q3          Q4       NGI  \\\n",
      "0     3040.670665    1.000000  127.000000    1.000000    4.000000  0.168263   \n",
      "1     3184.242496    1.000000  127.000000    1.000000    2.000000  0.132798   \n",
      "2     2696.683632  100.000000  129.000000  255.000000  255.000000  0.211423   \n",
      "3     3226.007854    1.000000  127.000000    1.000000   30.000000  0.120895   \n",
      "4     3207.007998    1.000000  127.000000    1.000000   30.000000  0.132614   \n",
      "...           ...         ...         ...         ...         ...       ...   \n",
      "1338  3035.862330    2.500524  126.984843    4.849830    5.834673  0.205587   \n",
      "1339  2810.355383    1.000000  127.000000    1.000000   14.691187  0.212078   \n",
      "1340  2992.229614    1.000000  127.000000    1.000000    4.394500  0.206721   \n",
      "1341  3318.608371   41.036604  126.595590  103.720175  116.227562  0.209600   \n",
      "1342  3301.837085   46.086543  126.544580  116.676586  128.112774  0.209879   \n",
      "\n",
      "           CVI       EVI       GCVI      NDVI        pr        tmmn  \\\n",
      "0     3.742777  1.377694   7.617174  0.618346  0.000000  285.799988   \n",
      "1     4.974894  1.657881  12.629661  0.706075  0.000000  283.000000   \n",
      "2     3.109886  0.609040   3.680531  0.322333  0.486722  288.299988   \n",
      "3     4.983620  1.863292  14.327076  0.785649  0.000000  284.212281   \n",
      "4     4.704081  1.710355  12.249576  0.738882  0.000000  284.200012   \n",
      "...        ...       ...        ...       ...       ...         ...   \n",
      "1338  3.231106  0.753325   4.252845  0.371948  0.000000  288.045470   \n",
      "1339  3.089848  0.639574   3.716376  0.324633  4.315004  289.142199   \n",
      "1340  3.205921  0.734261   4.160136  0.363881  0.814130  288.215504   \n",
      "1341  3.239579  0.570134   3.868699  0.302895  4.050011  290.285285   \n",
      "1342  3.228792  0.569375   3.843238  0.302905  3.703147  290.346497   \n",
      "\n",
      "            tmmx  \n",
      "0     304.700012  \n",
      "1     307.299988  \n",
      "2     302.575319  \n",
      "3     302.899994  \n",
      "4     302.899994  \n",
      "...          ...  \n",
      "1338  306.060627  \n",
      "1339  308.284418  \n",
      "1340  306.431011  \n",
      "1341  309.761768  \n",
      "1342  309.782171  \n",
      "\n",
      "[1343 rows x 19 columns]\n"
     ]
    },
    {
     "ename": "TypeError",
     "evalue": "%d format: a number is required, not str",
     "output_type": "error",
     "traceback": [
      "\u001b[0;31m---------------------------------------------------------------------------\u001b[0m",
      "\u001b[0;31mTypeError\u001b[0m                                 Traceback (most recent call last)",
      "\u001b[0;32m<ipython-input-752-acc5905135f5>\u001b[0m in \u001b[0;36m<module>\u001b[0;34m\u001b[0m\n\u001b[1;32m      9\u001b[0m \u001b[0;32mfor\u001b[0m \u001b[0mk\u001b[0m\u001b[0;34m,\u001b[0m\u001b[0mv\u001b[0m \u001b[0;32min\u001b[0m \u001b[0mcounter\u001b[0m\u001b[0;34m.\u001b[0m\u001b[0mitems\u001b[0m\u001b[0;34m(\u001b[0m\u001b[0;34m)\u001b[0m\u001b[0;34m:\u001b[0m\u001b[0;34m\u001b[0m\u001b[0;34m\u001b[0m\u001b[0m\n\u001b[1;32m     10\u001b[0m         \u001b[0mper\u001b[0m \u001b[0;34m=\u001b[0m \u001b[0mv\u001b[0m \u001b[0;34m/\u001b[0m \u001b[0mlen\u001b[0m\u001b[0;34m(\u001b[0m\u001b[0my\u001b[0m\u001b[0;34m)\u001b[0m \u001b[0;34m*\u001b[0m \u001b[0;36m100\u001b[0m\u001b[0;34m\u001b[0m\u001b[0;34m\u001b[0m\u001b[0m\n\u001b[0;32m---> 11\u001b[0;31m         \u001b[0mprint\u001b[0m\u001b[0;34m(\u001b[0m\u001b[0;34m'Class=%d, n=%d (%.3f%%)'\u001b[0m \u001b[0;34m%\u001b[0m \u001b[0;34m(\u001b[0m\u001b[0mk\u001b[0m\u001b[0;34m,\u001b[0m \u001b[0mv\u001b[0m\u001b[0;34m,\u001b[0m \u001b[0mper\u001b[0m\u001b[0;34m)\u001b[0m\u001b[0;34m)\u001b[0m\u001b[0;34m\u001b[0m\u001b[0;34m\u001b[0m\u001b[0m\n\u001b[0m\u001b[1;32m     12\u001b[0m \u001b[0;31m# plot the distribution\u001b[0m\u001b[0;34m\u001b[0m\u001b[0;34m\u001b[0m\u001b[0;34m\u001b[0m\u001b[0m\n\u001b[1;32m     13\u001b[0m \u001b[0mpyplot\u001b[0m\u001b[0;34m.\u001b[0m\u001b[0mbar\u001b[0m\u001b[0;34m(\u001b[0m\u001b[0mcounter\u001b[0m\u001b[0;34m.\u001b[0m\u001b[0mkeys\u001b[0m\u001b[0;34m(\u001b[0m\u001b[0;34m)\u001b[0m\u001b[0;34m,\u001b[0m \u001b[0mcounter\u001b[0m\u001b[0;34m.\u001b[0m\u001b[0mvalues\u001b[0m\u001b[0;34m(\u001b[0m\u001b[0;34m)\u001b[0m\u001b[0;34m)\u001b[0m\u001b[0;34m\u001b[0m\u001b[0;34m\u001b[0m\u001b[0m\n",
      "\u001b[0;31mTypeError\u001b[0m: %d format: a number is required, not str"
     ]
    }
   ],
   "source": [
    "\n",
    "\n",
    "# label encode the target variable\n",
    "y = LabelEncoder().fit_transform(y)\n",
    "# transform the dataset\n",
    "oversample = SMOTE(k_neighbors=2)\n",
    "XSM_train, y = oversample.fit_resample(XSM_train, ySM_train)\n",
    "print(XSM_train)\n",
    "# summarize distribution\n",
    "counter = Counter(y)\n",
    "for k,v in counter.items():\n",
    "\tper = v / len(y) * 100\n",
    "\tprint('Class=%d, n=%d (%.3f%%)' % (k, v, per))\n",
    "# plot the distribution\n",
    "pyplot.bar(counter.keys(), counter.values())\n",
    "pyplot.show()"
   ]
  },
  {
   "cell_type": "code",
   "execution_count": 747,
   "metadata": {},
   "outputs": [
    {
     "name": "stderr",
     "output_type": "stream",
     "text": [
      "/opt/miniconda3/lib/python3.8/site-packages/xgboost/sklearn.py:888: UserWarning: The use of label encoder in XGBClassifier is deprecated and will be removed in a future release. To remove this warning, do the following: 1) Pass option use_label_encoder=False when constructing XGBClassifier object; and 2) Encode your labels (y) as integers starting with 0, i.e. 0, 1, 2, ..., [num_class - 1].\n",
      "  warnings.warn(label_encoder_deprecation_msg, UserWarning)\n"
     ]
    },
    {
     "name": "stdout",
     "output_type": "stream",
     "text": [
      "[16:41:49] WARNING: /Users/runner/miniforge3/conda-bld/xgboost_1607604592557/work/src/learner.cc:1061: Starting in XGBoost 1.3.0, the default evaluation metric used with the objective 'multi:softprob' was changed from 'merror' to 'mlogloss'. Explicitly set eval_metric if you'd like to restore the old behavior.\n",
      "              precision    recall  f1-score     support\n",
      "R1             0.000000  0.000000  0.000000    1.000000\n",
      "R2             1.000000  0.750000  0.857143    4.000000\n",
      "R3             0.500000  1.000000  0.666667    3.000000\n",
      "R4             1.000000  1.000000  1.000000    9.000000\n",
      "R5             1.000000  1.000000  1.000000   13.000000\n",
      "R6             1.000000  1.000000  1.000000   35.000000\n",
      "V10            1.000000  1.000000  1.000000    5.000000\n",
      "V12            1.000000  1.000000  1.000000    3.000000\n",
      "V13            1.000000  1.000000  1.000000    9.000000\n",
      "V14            0.000000  0.000000  0.000000    2.000000\n",
      "V15            1.000000  1.000000  1.000000    4.000000\n",
      "V16            0.000000  0.000000  0.000000    3.000000\n",
      "V18            0.800000  1.000000  0.888889    4.000000\n",
      "V19            0.666667  1.000000  0.800000    2.000000\n",
      "V8             0.000000  0.000000  0.000000    2.000000\n",
      "V9             0.000000  0.000000  0.000000    0.000000\n",
      "VT             0.800000  1.000000  0.888889    4.000000\n",
      "accuracy       0.912621  0.912621  0.912621    0.912621\n",
      "macro avg      0.633333  0.691176  0.653035  103.000000\n",
      "weighted avg   0.885761  0.912621  0.894560  103.000000\n",
      "[[ 0  0  0  0  0  0  0  0  0  0  0  0  0  0  0  0  1]\n",
      " [ 1  3  0  0  0  0  0  0  0  0  0  0  0  0  0  0  0]\n",
      " [ 0  0  3  0  0  0  0  0  0  0  0  0  0  0  0  0  0]\n",
      " [ 0  0  0  9  0  0  0  0  0  0  0  0  0  0  0  0  0]\n",
      " [ 0  0  0  0 13  0  0  0  0  0  0  0  0  0  0  0  0]\n",
      " [ 0  0  0  0  0 35  0  0  0  0  0  0  0  0  0  0  0]\n",
      " [ 0  0  0  0  0  0  5  0  0  0  0  0  0  0  0  0  0]\n",
      " [ 0  0  0  0  0  0  0  3  0  0  0  0  0  0  0  0  0]\n",
      " [ 0  0  0  0  0  0  0  0  9  0  0  0  0  0  0  0  0]\n",
      " [ 0  0  0  0  0  0  0  0  0  0  0  0  1  1  0  0  0]\n",
      " [ 0  0  0  0  0  0  0  0  0  0  4  0  0  0  0  0  0]\n",
      " [ 0  0  3  0  0  0  0  0  0  0  0  0  0  0  0  0  0]\n",
      " [ 0  0  0  0  0  0  0  0  0  0  0  0  4  0  0  0  0]\n",
      " [ 0  0  0  0  0  0  0  0  0  0  0  0  0  2  0  0  0]\n",
      " [ 0  0  0  0  0  0  0  0  0  0  0  0  0  0  0  2  0]\n",
      " [ 0  0  0  0  0  0  0  0  0  0  0  0  0  0  0  0  0]\n",
      " [ 0  0  0  0  0  0  0  0  0  0  0  0  0  0  0  0  4]]\n"
     ]
    },
    {
     "name": "stderr",
     "output_type": "stream",
     "text": [
      "/opt/miniconda3/lib/python3.8/site-packages/sklearn/metrics/_classification.py:1221: UndefinedMetricWarning: Precision and F-score are ill-defined and being set to 0.0 in labels with no predicted samples. Use `zero_division` parameter to control this behavior.\n",
      "  _warn_prf(average, modifier, msg_start, len(result))\n",
      "/opt/miniconda3/lib/python3.8/site-packages/sklearn/metrics/_classification.py:1221: UndefinedMetricWarning: Recall and F-score are ill-defined and being set to 0.0 in labels with no true samples. Use `zero_division` parameter to control this behavior.\n",
      "  _warn_prf(average, modifier, msg_start, len(result))\n"
     ]
    }
   ],
   "source": [
    "#XGBoost\n",
    "\n",
    "\n",
    "# fit model no training data\n",
    "model = XGBClassifier()\n",
    "model.fit(XSM_train, ySM_train)\n",
    "# make predictions for test data\n",
    "ySM_pred = model.predict(XSM_test)\n",
    "\n",
    "report1 = metrics.classification_report(ySM_test,ySM_pred, output_dict=True)\n",
    "report_rf1 = pd.DataFrame(report1).transpose()\n",
    "\n",
    "#save report\n",
    "report_rf1.to_csv('/Users/luciananieto/2021/Planet_2021/Classification/Reports_python/report_XG_all_balance.csv',index=False)\n",
    "print(report_rf1)\n",
    "cm1 =metrics.confusion_matrix(ySM_test,ySM_pred)\n",
    "\n",
    "print(cm1)"
   ]
  },
  {
   "cell_type": "code",
   "execution_count": 748,
   "metadata": {},
   "outputs": [
    {
     "name": "stdout",
     "output_type": "stream",
     "text": [
      "      constant   latitude   longitude          B1           B2           B3  \\\n",
      "0          251  37.297485 -101.651033  410.029967   757.309961   714.265523   \n",
      "1          262  37.457459 -101.612441  331.641895   601.975760   587.643385   \n",
      "2          158  37.340706 -101.416000  747.380307  1099.787779  1395.152286   \n",
      "3          242  37.393762 -101.457724  227.040705   495.371457   384.195310   \n",
      "4          242  37.399423 -101.485034  273.140676   564.325697   479.289119   \n",
      "...        ...        ...         ...         ...          ...          ...   \n",
      "1338       185  37.427981 -101.402799  786.298931  1152.721645  1397.254455   \n",
      "1339       186  37.468331 -101.516606  796.814218  1143.924566  1433.781824   \n",
      "1340       185  37.435777 -101.424345  787.082149  1149.284177  1400.785617   \n",
      "1341       187  37.459813 -101.510212  938.533017  1370.428404  1806.538163   \n",
      "1342       187  37.455831 -101.500504  933.730929  1363.976182  1794.535731   \n",
      "\n",
      "               B4          Q1          Q2          Q3          Q4       NGI  \\\n",
      "0     3040.670665    1.000000  127.000000    1.000000    4.000000  0.168263   \n",
      "1     3184.242496    1.000000  127.000000    1.000000    2.000000  0.132798   \n",
      "2     2696.683632  100.000000  129.000000  255.000000  255.000000  0.211423   \n",
      "3     3226.007854    1.000000  127.000000    1.000000   30.000000  0.120895   \n",
      "4     3207.007998    1.000000  127.000000    1.000000   30.000000  0.132614   \n",
      "...           ...         ...         ...         ...         ...       ...   \n",
      "1338  3035.862330    2.500524  126.984843    4.849830    5.834673  0.205587   \n",
      "1339  2810.355383    1.000000  127.000000    1.000000   14.691187  0.212078   \n",
      "1340  2992.229614    1.000000  127.000000    1.000000    4.394500  0.206721   \n",
      "1341  3318.608371   41.036604  126.595590  103.720175  116.227562  0.209600   \n",
      "1342  3301.837085   46.086543  126.544580  116.676586  128.112774  0.209879   \n",
      "\n",
      "           CVI       EVI       GCVI      NDVI        pr        tmmn  \\\n",
      "0     3.742777  1.377694   7.617174  0.618346  0.000000  285.799988   \n",
      "1     4.974894  1.657881  12.629661  0.706075  0.000000  283.000000   \n",
      "2     3.109886  0.609040   3.680531  0.322333  0.486722  288.299988   \n",
      "3     4.983620  1.863292  14.327076  0.785649  0.000000  284.212281   \n",
      "4     4.704081  1.710355  12.249576  0.738882  0.000000  284.200012   \n",
      "...        ...       ...        ...       ...       ...         ...   \n",
      "1338  3.231106  0.753325   4.252845  0.371948  0.000000  288.045470   \n",
      "1339  3.089848  0.639574   3.716376  0.324633  4.315004  289.142199   \n",
      "1340  3.205921  0.734261   4.160136  0.363881  0.814130  288.215504   \n",
      "1341  3.239579  0.570134   3.868699  0.302895  4.050011  290.285285   \n",
      "1342  3.228792  0.569375   3.843238  0.302905  3.703147  290.346497   \n",
      "\n",
      "            tmmx  \n",
      "0     304.700012  \n",
      "1     307.299988  \n",
      "2     302.575319  \n",
      "3     302.899994  \n",
      "4     302.899994  \n",
      "...          ...  \n",
      "1338  306.060627  \n",
      "1339  308.284418  \n",
      "1340  306.431011  \n",
      "1341  309.761768  \n",
      "1342  309.782171  \n",
      "\n",
      "[1343 rows x 19 columns]\n",
      "              precision    recall  f1-score     support\n",
      "R1             0.000000  0.000000  0.000000    1.000000\n",
      "R2             1.000000  0.500000  0.666667    4.000000\n",
      "R3             1.000000  0.666667  0.800000    3.000000\n",
      "R4             0.800000  0.888889  0.842105    9.000000\n",
      "R5             1.000000  0.923077  0.960000   13.000000\n",
      "R6             1.000000  1.000000  1.000000   35.000000\n",
      "V10            0.625000  1.000000  0.769231    5.000000\n",
      "V12            1.000000  1.000000  1.000000    3.000000\n",
      "V13            1.000000  1.000000  1.000000    9.000000\n",
      "V14            0.500000  0.500000  0.500000    2.000000\n",
      "V15            1.000000  1.000000  1.000000    4.000000\n",
      "V16            0.000000  0.000000  0.000000    3.000000\n",
      "V18            0.800000  1.000000  0.888889    4.000000\n",
      "V19            0.500000  1.000000  0.666667    2.000000\n",
      "V8             0.500000  0.500000  0.500000    2.000000\n",
      "V9             0.000000  0.000000  0.000000    0.000000\n",
      "VT             0.666667  0.500000  0.571429    4.000000\n",
      "accuracy       0.873786  0.873786  0.873786    0.873786\n",
      "macro avg      0.670098  0.675214  0.656764  103.000000\n",
      "weighted avg   0.875647  0.873786  0.865499  103.000000\n",
      "[[ 0  0  0  0  0  0  0  0  0  0  0  0  0  0  0  0  1]\n",
      " [ 1  2  0  1  0  0  0  0  0  0  0  0  0  0  0  0  0]\n",
      " [ 0  0  2  1  0  0  0  0  0  0  0  0  0  0  0  0  0]\n",
      " [ 0  0  0  8  0  0  1  0  0  0  0  0  0  0  0  0  0]\n",
      " [ 0  0  0  0 12  0  0  0  0  0  0  0  0  0  1  0  0]\n",
      " [ 0  0  0  0  0 35  0  0  0  0  0  0  0  0  0  0  0]\n",
      " [ 0  0  0  0  0  0  5  0  0  0  0  0  0  0  0  0  0]\n",
      " [ 0  0  0  0  0  0  0  3  0  0  0  0  0  0  0  0  0]\n",
      " [ 0  0  0  0  0  0  0  0  9  0  0  0  0  0  0  0  0]\n",
      " [ 0  0  0  0  0  0  0  0  0  1  0  0  0  1  0  0  0]\n",
      " [ 0  0  0  0  0  0  0  0  0  0  4  0  0  0  0  0  0]\n",
      " [ 0  0  0  0  0  0  2  0  0  0  0  0  0  1  0  0  0]\n",
      " [ 0  0  0  0  0  0  0  0  0  0  0  0  4  0  0  0  0]\n",
      " [ 0  0  0  0  0  0  0  0  0  0  0  0  0  2  0  0  0]\n",
      " [ 0  0  0  0  0  0  0  0  0  0  0  0  0  0  1  1  0]\n",
      " [ 0  0  0  0  0  0  0  0  0  0  0  0  0  0  0  0  0]\n",
      " [ 0  0  0  0  0  0  0  0  0  1  0  0  1  0  0  0  2]]\n"
     ]
    },
    {
     "name": "stderr",
     "output_type": "stream",
     "text": [
      "/opt/miniconda3/lib/python3.8/site-packages/sklearn/metrics/_classification.py:1221: UndefinedMetricWarning: Precision and F-score are ill-defined and being set to 0.0 in labels with no predicted samples. Use `zero_division` parameter to control this behavior.\n",
      "  _warn_prf(average, modifier, msg_start, len(result))\n",
      "/opt/miniconda3/lib/python3.8/site-packages/sklearn/metrics/_classification.py:1221: UndefinedMetricWarning: Recall and F-score are ill-defined and being set to 0.0 in labels with no true samples. Use `zero_division` parameter to control this behavior.\n",
      "  _warn_prf(average, modifier, msg_start, len(result))\n"
     ]
    }
   ],
   "source": [
    "#Random Forest\n",
    "clf_RF=RandomForestClassifier(bootstrap=True,\n",
    "                              #max_depth=50,\n",
    " #max_features= 7,\n",
    " #min_samples_leaf= 2,\n",
    " #min_samples_split= 4,\n",
    " n_estimators= 50,random_state=0)\n",
    "clf_RF.fit(XSM_train, ySM_train)\n",
    "\n",
    "print(XSM_train)\n",
    "ySM_pred_rf = clf_RF.predict(XSM_test)\n",
    "\n",
    "report = metrics.classification_report(ySM_test,ySM_pred_rf, output_dict=True)\n",
    "report_rf = pd.DataFrame(report).transpose()\n",
    "\n",
    "#save report\n",
    "report_rf.to_csv('/Users/luciananieto/2021/Planet_2021/Classification/Reports_python/report_RF_all_balance.csv',index=False)\n",
    "print(report_rf)\n",
    "cm =metrics.confusion_matrix(ySM_test,ySM_pred_rf)\n",
    "\n",
    "print(cm)\n",
    "\n"
   ]
  },
  {
   "cell_type": "code",
   "execution_count": null,
   "metadata": {},
   "outputs": [],
   "source": []
  },
  {
   "cell_type": "code",
   "execution_count": 568,
   "metadata": {},
   "outputs": [
    {
     "name": "stdout",
     "output_type": "stream",
     "text": [
      "(273, 20)\n",
      "(69, 20)\n",
      "             Q1     Q3          Q4       NGI\n",
      "0    100.000000  255.0  255.000000  0.228195\n",
      "1      2.377662    1.0    2.000000  0.220613\n",
      "2    100.000000  255.0  255.000000  0.227324\n",
      "3    100.000000  255.0  255.000000  0.220752\n",
      "4    100.000000  255.0  255.000000  0.229614\n",
      "..          ...    ...         ...       ...\n",
      "337    1.000000    1.0   13.000000  0.170693\n",
      "338    1.000000    1.0   22.000000  0.155327\n",
      "339    1.000000    1.0   23.000000  0.171105\n",
      "340    1.000000    1.0   20.000000  0.187739\n",
      "341    1.000000    1.0   18.586082  0.181879\n",
      "\n",
      "[342 rows x 4 columns]\n",
      "              precision    recall  f1-score    support\n",
      "0              0.000000  0.000000  0.000000   2.000000\n",
      "1              0.600000  0.600000  0.600000   5.000000\n",
      "2              0.000000  0.000000  0.000000   0.000000\n",
      "3              1.000000  1.000000  1.000000   6.000000\n",
      "4              1.000000  1.000000  1.000000   6.000000\n",
      "5              1.000000  1.000000  1.000000  29.000000\n",
      "6              1.000000  1.000000  1.000000   3.000000\n",
      "7              0.000000  0.000000  0.000000   1.000000\n",
      "8              0.500000  1.000000  0.666667   1.000000\n",
      "9              1.000000  1.000000  1.000000   3.000000\n",
      "11             1.000000  1.000000  1.000000   1.000000\n",
      "12             1.000000  1.000000  1.000000   2.000000\n",
      "13             1.000000  0.800000  0.888889   5.000000\n",
      "14             1.000000  1.000000  1.000000   1.000000\n",
      "16             1.000000  1.000000  1.000000   2.000000\n",
      "17             0.666667  1.000000  0.800000   2.000000\n",
      "accuracy       0.913043  0.913043  0.913043   0.913043\n",
      "macro avg      0.735417  0.775000  0.747222  69.000000\n",
      "weighted avg   0.910628  0.913043  0.908857  69.000000\n",
      "[[ 0  2  0  0  0  0  0  0  0  0  0  0  0  0  0  0]\n",
      " [ 1  3  1  0  0  0  0  0  0  0  0  0  0  0  0  0]\n",
      " [ 0  0  0  0  0  0  0  0  0  0  0  0  0  0  0  0]\n",
      " [ 0  0  0  6  0  0  0  0  0  0  0  0  0  0  0  0]\n",
      " [ 0  0  0  0  6  0  0  0  0  0  0  0  0  0  0  0]\n",
      " [ 0  0  0  0  0 29  0  0  0  0  0  0  0  0  0  0]\n",
      " [ 0  0  0  0  0  0  3  0  0  0  0  0  0  0  0  0]\n",
      " [ 0  0  0  0  0  0  0  0  1  0  0  0  0  0  0  0]\n",
      " [ 0  0  0  0  0  0  0  0  1  0  0  0  0  0  0  0]\n",
      " [ 0  0  0  0  0  0  0  0  0  3  0  0  0  0  0  0]\n",
      " [ 0  0  0  0  0  0  0  0  0  0  1  0  0  0  0  0]\n",
      " [ 0  0  0  0  0  0  0  0  0  0  0  2  0  0  0  0]\n",
      " [ 0  0  0  0  0  0  0  0  0  0  0  0  4  0  0  1]\n",
      " [ 0  0  0  0  0  0  0  0  0  0  0  0  0  1  0  0]\n",
      " [ 0  0  0  0  0  0  0  0  0  0  0  0  0  0  2  0]\n",
      " [ 0  0  0  0  0  0  0  0  0  0  0  0  0  0  0  2]]\n"
     ]
    },
    {
     "name": "stderr",
     "output_type": "stream",
     "text": [
      "/opt/miniconda3/lib/python3.8/site-packages/sklearn/metrics/_classification.py:1221: UndefinedMetricWarning: Precision and F-score are ill-defined and being set to 0.0 in labels with no predicted samples. Use `zero_division` parameter to control this behavior.\n",
      "  _warn_prf(average, modifier, msg_start, len(result))\n",
      "/opt/miniconda3/lib/python3.8/site-packages/sklearn/metrics/_classification.py:1221: UndefinedMetricWarning: Recall and F-score are ill-defined and being set to 0.0 in labels with no true samples. Use `zero_division` parameter to control this behavior.\n",
      "  _warn_prf(average, modifier, msg_start, len(result))\n"
     ]
    }
   ],
   "source": [
    "X_train, X_test, y_train, y_test  = train_test_split(X, y, test_size=0.20, random_state=1) \n",
    "print(X_train.shape)\n",
    "print(X_test.shape)\n",
    "print (X_VI)\n",
    "\n",
    "\n",
    "clf_RF=RandomForestClassifier(bootstrap=True,\n",
    " ##max_depth=50,\n",
    " ##max_features= 7,\n",
    " ##min_samples_leaf= 2,\n",
    " ##min_samples_split= 4,\n",
    " n_estimators= 50,random_state=0)\n",
    "clf_RF.fit(X_train, y_train)\n",
    "\n",
    "y_pred_rf = clf_RF.predict(X_test)\n",
    "\n",
    "y_pred2_rf = clf_RF.predict(X_train)\n",
    "\n",
    "report = metrics.classification_report(y_test,y_pred_rf, output_dict=True)\n",
    "report_rf = pd.DataFrame(report).transpose()\n",
    "#report_rf.to_csv('report_rf_2019_7.csv',index=False)\n",
    "print(report_rf)\n",
    "cm =metrics.confusion_matrix(y_test,y_pred_rf)\n",
    "\n",
    "print(cm)"
   ]
  },
  {
   "cell_type": "markdown",
   "metadata": {},
   "source": [
    "## Using the data from landsat"
   ]
  },
  {
   "cell_type": "code",
   "execution_count": 39,
   "metadata": {},
   "outputs": [],
   "source": [
    "df1 = pd.read_csv (\"/Users/luciananieto/2021/Planet_2021/data2017_ok.csv\")"
   ]
  },
  {
   "cell_type": "code",
   "execution_count": 40,
   "metadata": {},
   "outputs": [
    {
     "data": {
      "text/plain": [
       "Index(['Unnamed: 0', 'B1', 'B10', 'B11', 'B2', 'B3', 'B4', 'B5', 'B6', 'B7',\n",
       "       'EVI', 'GCVI', 'GVMI', 'NDVI', 'NDWI', 'constant', 'mean', 'pr', 'tmmn',\n",
       "       'tmmx', 'vpd', 'Crop_Growt', 'DOY'],\n",
       "      dtype='object')"
      ]
     },
     "execution_count": 40,
     "metadata": {},
     "output_type": "execute_result"
    }
   ],
   "source": [
    "df1.columns"
   ]
  },
  {
   "cell_type": "code",
   "execution_count": 43,
   "metadata": {},
   "outputs": [],
   "source": [
    "df2= df1.drop(['Unnamed: 0','GVMI','GVMI'],axis=1)"
   ]
  },
  {
   "cell_type": "code",
   "execution_count": 44,
   "metadata": {},
   "outputs": [
    {
     "data": {
      "text/plain": [
       "Index(['B1', 'B10', 'B11', 'B2', 'B3', 'B4', 'B5', 'B6', 'B7', 'EVI', 'GCVI',\n",
       "       'NDVI', 'NDWI', 'constant', 'mean', 'pr', 'tmmn', 'tmmx', 'vpd',\n",
       "       'Crop_Growt', 'DOY'],\n",
       "      dtype='object')"
      ]
     },
     "execution_count": 44,
     "metadata": {},
     "output_type": "execute_result"
    }
   ],
   "source": [
    "df2.columns"
   ]
  },
  {
   "cell_type": "code",
   "execution_count": 46,
   "metadata": {},
   "outputs": [
    {
     "name": "stdout",
     "output_type": "stream",
     "text": [
      "          NDVI        tmmn        tmmx       vpd\n",
      "0     0.277684  293.198151  311.377594  2.789042\n",
      "1     0.437356  293.198151  311.377594  2.789042\n",
      "2     0.433607  293.198151  311.377594  2.789042\n",
      "3     0.280731  293.188324  311.492828  2.800257\n",
      "4     0.263402  293.188324  311.492828  2.800257\n",
      "...        ...         ...         ...       ...\n",
      "8817  0.424159  288.500339  306.943307  2.174080\n",
      "8818  0.337226  288.513916  306.857971  2.160754\n",
      "8819  0.447497  289.107544  307.133423  2.163937\n",
      "8820  0.545275  289.889526  307.928497  2.277008\n",
      "8821  0.525992  289.676804  307.767951  2.270031\n",
      "\n",
      "[8822 rows x 4 columns]\n",
      "0       ER\n",
      "1       ER\n",
      "2       ER\n",
      "3       ER\n",
      "4       ER\n",
      "        ..\n",
      "8817    LV\n",
      "8818    LV\n",
      "8819    LV\n",
      "8820    LV\n",
      "8821    LV\n",
      "Name: Crop_Growt, Length: 8822, dtype: object\n"
     ]
    }
   ],
   "source": [
    "Xvw= df2.iloc[:,[11, 16,17,18]]\n",
    "Yvw = df2.iloc[:,-2]\n",
    "print (Xvw)\n",
    "print(Yvw)"
   ]
  },
  {
   "cell_type": "code",
   "execution_count": 48,
   "metadata": {},
   "outputs": [
    {
     "name": "stdout",
     "output_type": "stream",
     "text": [
      "          NDVI        tmmn        tmmx       vpd\n",
      "5009  0.725838  289.830231  304.002014  1.120082\n",
      "3933  0.643355  293.049133  306.346893  1.758204\n",
      "1998  0.299293  290.367568  309.196969  2.409878\n",
      "4857  0.866918  291.002991  304.503174  1.232589\n",
      "4846  0.273429  290.271942  304.369080  1.168623\n",
      "...        ...         ...         ...       ...\n",
      "2895  0.319941  293.233487  308.241633  2.179173\n",
      "7813  0.587204  287.444500  306.574420  2.195222\n",
      "905   0.209301  292.607941  311.838471  2.981302\n",
      "5192  0.524670  289.748535  304.237701  1.143409\n",
      "235   0.291999  293.698273  307.747162  1.848589\n",
      "\n",
      "[6175 rows x 4 columns]\n",
      "          NDVI        tmmn        tmmx       vpd\n",
      "5009  0.725838  289.830231  304.002014  1.120082\n",
      "3933  0.643355  293.049133  306.346893  1.758204\n",
      "1998  0.299293  290.367568  309.196969  2.409878\n",
      "4857  0.866918  291.002991  304.503174  1.232589\n",
      "4846  0.273429  290.271942  304.369080  1.168623\n",
      "...        ...         ...         ...       ...\n",
      "2895  0.319941  293.233487  308.241633  2.179173\n",
      "7813  0.587204  287.444500  306.574420  2.195222\n",
      "905   0.209301  292.607941  311.838471  2.981302\n",
      "5192  0.524670  289.748535  304.237701  1.143409\n",
      "235   0.291999  293.698273  307.747162  1.848589\n",
      "\n",
      "[6175 rows x 4 columns]\n",
      "              precision    recall  f1-score      support\n",
      "ER             0.000000  0.000000  0.000000   121.000000\n",
      "EV             0.043478  0.044335  0.043902   203.000000\n",
      "H              0.090909  0.065574  0.076190    61.000000\n",
      "IV1            0.156716  0.102439  0.123894   205.000000\n",
      "IV2            0.159942  0.181077  0.169855   613.000000\n",
      "LR1            0.065010  0.071279  0.068000   477.000000\n",
      "LR2            0.063291  0.055351  0.059055   271.000000\n",
      "LR3            0.212185  0.204453  0.208247   494.000000\n",
      "LV             0.021858  0.019802  0.020779   202.000000\n",
      "accuracy       0.112958  0.112958  0.112958     0.112958\n",
      "macro avg      0.090377  0.082701  0.085547  2647.000000\n",
      "weighted avg   0.114068  0.112958  0.112803  2647.000000\n",
      "[[  0  23   0  11  20  22  10  16  19]\n",
      " [ 20   9   3   7  54  42  25  22  21]\n",
      " [  0   3   4   4  20  15  10   3   2]\n",
      " [ 15   6   5  21  59  31  31  26  11]\n",
      " [ 30  48  14  35 111 157  50 124  44]\n",
      " [ 25  36  13  18 143  34  43 130  35]\n",
      " [ 12  26   4  21  93  49  15  26  25]\n",
      " [ 16  29   0  14 151 138  23 101  22]\n",
      " [ 31  27   1   3  43  35  30  28   4]]\n"
     ]
    }
   ],
   "source": [
    "\n",
    "# split data into train and test sets\n",
    "seed = 1\n",
    "test_size = 0.30\n",
    "X_train, X_test, y_train, y_test = train_test_split(Xvw, Yvw, test_size=test_size, random_state=seed)\n",
    "print(X_train)\n",
    "\n",
    "#Random Forest\n",
    "clf_RF=RandomForestClassifier(bootstrap=True,\n",
    "                              #max_depth=50,\n",
    " #max_features= 7,\n",
    " #min_samples_leaf= 2,\n",
    " #min_samples_split= 4,\n",
    " n_estimators= 50,random_state=0)\n",
    "clf_RF.fit(X_train, y_train)\n",
    "\n",
    "print(X_train)\n",
    "y_pred_rf = clf_RF.predict(X_test)\n",
    "\n",
    "report = metrics.classification_report(y_test,y_pred_rf, output_dict=True)\n",
    "report_rf = pd.DataFrame(report).transpose()\n",
    "\n",
    "#save report\n",
    "report_rf.to_csv('/Users/luciananieto/2021/Planet_2021/Classification/Reports_python/report_RF_NDVI_W_LANDSAT.csv',index=False)\n",
    "print(report_rf)\n",
    "cm =metrics.confusion_matrix(y_test,y_pred_rf)\n",
    "\n",
    "print(cm)\n",
    "\n"
   ]
  },
  {
   "cell_type": "code",
   "execution_count": 54,
   "metadata": {},
   "outputs": [
    {
     "name": "stdout",
     "output_type": "stream",
     "text": [
      "Confusion matrix, landsat_NDVI+3Weather\n",
      "[[  0  23   0  11  20  22  10  16  19]\n",
      " [ 20   9   3   7  54  42  25  22  21]\n",
      " [  0   3   4   4  20  15  10   3   2]\n",
      " [ 15   6   5  21  59  31  31  26  11]\n",
      " [ 30  48  14  35 111 157  50 124  44]\n",
      " [ 25  36  13  18 143  34  43 130  35]\n",
      " [ 12  26   4  21  93  49  15  26  25]\n",
      " [ 16  29   0  14 151 138  23 101  22]\n",
      " [ 31  27   1   3  43  35  30  28   4]]\n"
     ]
    },
    {
     "data": {
      "image/png": "[encoded data removed]",
      "text/plain": [
       "<Figure size 842.4x595.44 with 2 Axes>"
      ]
     },
     "metadata": {},
     "output_type": "display_data"
    }
   ],
   "source": [
    "from sklearn.metrics import confusion_matrix\n",
    "GrowthStages= ['IV1','IV2','EV','LV','ER', 'LR1', 'LR2','LR3','H'] \n",
    "def plot_confusion_matrix(cm, names, title='Confusion matrix', cmap=plt.cm.Blues):\n",
    "    plt.imshow(cm, interpolation='nearest', cmap=cmap)\n",
    "    plt.title(title)\n",
    "    plt.colorbar()\n",
    "    tick_marks = np.arange(len(GrowthStages))\n",
    "    plt.xticks(tick_marks, GrowthStages, rotation=45)\n",
    "    plt.yticks(tick_marks, GrowthStages)\n",
    "    plt.tight_layout()\n",
    "    plt.ylabel('True label')\n",
    "    plt.xlabel('Predicted label')\n",
    "\n",
    "\n",
    "cm = confusion_matrix(y_test,y_pred_rf)\n",
    "np.set_printoptions(precision=1)\n",
    "print('Confusion matrix, landsat_NDVI+3Weather')\n",
    "print(cm)\n",
    "plt.figure()\n",
    "plot_confusion_matrix(cm, GrowthStages)"
   ]
  },
  {
   "cell_type": "code",
   "execution_count": null,
   "metadata": {},
   "outputs": [],
   "source": []
  },
  {
   "cell_type": "code",
   "execution_count": null,
   "metadata": {},
   "outputs": [],
   "source": []
  }
 ],
 "metadata": {
  "kernelspec": {
   "display_name": "Python 3",
   "language": "python",
   "name": "python3"
  },
  "language_info": {
   "codemirror_mode": {
    "name": "ipython",
    "version": 3
   },
   "file_extension": ".py",
   "mimetype": "text/x-python",
   "name": "python",
   "nbconvert_exporter": "python",
   "pygments_lexer": "ipython3",
   "version": "3.6.8"
  }
 },
 "nbformat": 4,
 "nbformat_minor": 4
}
