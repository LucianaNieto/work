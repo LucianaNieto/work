{
 "cells": [
  {
   "cell_type": "code",
   "execution_count": 1,
   "metadata": {},
   "outputs": [
    {
     "name": "stdout",
     "output_type": "stream",
     "text": [
      "\n",
      "Tensorflow Version: 1.14.0\n"
     ]
    }
   ],
   "source": [
    "#!pip install tensorflow==2.0.0-alpha0\n",
    "import tensorflow as tf\n",
    "\n",
    "print(\"\\nTensorflow Version:\", tf.__version__)"
   ]
  },
  {
   "cell_type": "code",
   "execution_count": 2,
   "metadata": {},
   "outputs": [],
   "source": [
    "import tensorflow as tf\n",
    "from tensorflow import keras\n",
    "\n",
    "import os\n",
    "import tempfile\n",
    "\n",
    "import matplotlib as mpl\n",
    "import matplotlib.pyplot as plt\n",
    "import numpy as np\n",
    "import pandas as pd\n",
    "import seaborn as sns\n",
    "\n",
    "import sklearn\n",
    "from sklearn.metrics import confusion_matrix\n",
    "from sklearn.model_selection import train_test_split\n",
    "from sklearn.preprocessing import StandardScaler"
   ]
  },
  {
   "cell_type": "code",
   "execution_count": 3,
   "metadata": {},
   "outputs": [],
   "source": [
    "import pandas\n",
    "from tensorflow.keras.models import Sequential\n",
    "from tensorflow.keras.layers import Dense\n",
    "from tensorflow.keras.layers import Flatten\n",
    "from sklearn.model_selection import cross_val_score\n",
    "from sklearn.model_selection import KFold\n",
    "from sklearn.preprocessing import LabelEncoder\n",
    "from sklearn.pipeline import Pipeline\n",
    "\n",
    "from sklearn.model_selection import train_test_split\n",
    "from sklearn.metrics import accuracy_score\n",
    "from sklearn.metrics import classification_report\n",
    "from sklearn.metrics import confusion_matrix\n",
    "from sklearn.metrics import precision_recall_fscore_support"
   ]
  },
  {
   "cell_type": "code",
   "execution_count": 4,
   "metadata": {},
   "outputs": [
    {
     "name": "stderr",
     "output_type": "stream",
     "text": [
      "Using TensorFlow backend.\n"
     ]
    }
   ],
   "source": [
    "from keras.utils import np_utils"
   ]
  },
  {
   "cell_type": "code",
   "execution_count": 5,
   "metadata": {},
   "outputs": [
    {
     "name": "stdout",
     "output_type": "stream",
     "text": [
      "\n",
      "Keras Version: 2.2.4-tf\n"
     ]
    }
   ],
   "source": [
    "print('\\nKeras Version:', keras.__version__)"
   ]
  },
  {
   "cell_type": "code",
   "execution_count": 6,
   "metadata": {},
   "outputs": [
    {
     "data": {
      "text/plain": [
       "tensorflow.python.keras.wrappers.scikit_learn.KerasClassifier"
      ]
     },
     "execution_count": 6,
     "metadata": {},
     "output_type": "execute_result"
    }
   ],
   "source": [
    "tf.compat.v1.keras.wrappers.scikit_learn.KerasClassifier #para que ande el #from tensorflow.keras.utils import np_utils"
   ]
  },
  {
   "cell_type": "code",
   "execution_count": 7,
   "metadata": {},
   "outputs": [
    {
     "data": {
      "text/plain": [
       "Index(['B1', 'B10', 'B11', 'B2', 'B3', 'B4', 'B5', 'B6', 'B7', 'EVI', 'GCVI',\n",
       "       'GVMI', 'ID', 'NDVI', 'NDWI', 'OBJECTID', 'constant', 'latitude',\n",
       "       'longitude', 'mean', 'pr', 'tmmn', 'tmmx', 'vpd', 'GrowthStage',\n",
       "       'GrowthDOY'],\n",
       "      dtype='object')"
      ]
     },
     "execution_count": 7,
     "metadata": {},
     "output_type": "execute_result"
    }
   ],
   "source": [
    "raw_df = pd.read_csv(\"/Users/luciananieto/Desktop/1_2019/Finals_2017/data_2017.csv\")\n",
    "raw_df.columns\n",
    "raw_df.head()\n",
    "#scale_mapper = {'IV1':1,'IV2':2,'EV':3,'LV':4,'ER':5, 'LR1':6, 'LR2':7,'LR3':8,'H':9} \n",
    "#raw_df['GS'] = raw_df['GrowthStage'].replace(scale_mapper)\n",
    "#raw_df=raw_df.drop(['GrowthStage'],axis=1)\n",
    "raw_df.columns"
   ]
  },
  {
   "cell_type": "code",
   "execution_count": 8,
   "metadata": {},
   "outputs": [
    {
     "data": {
      "text/plain": [
       "Index(['B10', 'B11', 'B2', 'B3', 'B4', 'B5', 'B6', 'B7', 'GrowthStage',\n",
       "       'GrowthDOY'],\n",
       "      dtype='object')"
      ]
     },
     "execution_count": 8,
     "metadata": {},
     "output_type": "execute_result"
    }
   ],
   "source": [
    "raw_df=raw_df.drop([\"B1\",'OBJECTID', 'mean', 'EVI', 'GCVI',\n",
    "       'GVMI', 'ID', 'NDVI', 'NDWI','pr', 'tmmn', 'tmmx', 'vpd','ID','latitude',\n",
    "       'longitude','constant'],axis=1)\n",
    "raw_df.columns"
   ]
  },
  {
   "cell_type": "code",
   "execution_count": 9,
   "metadata": {},
   "outputs": [],
   "source": [
    "X=raw_df.drop(['GrowthStage'], axis=1)\n",
    "X=np.array(X)\n",
    "Y=raw_df[\"GrowthStage\"]"
   ]
  },
  {
   "cell_type": "code",
   "execution_count": 10,
   "metadata": {},
   "outputs": [
    {
     "data": {
      "text/plain": [
       "IV2    1959\n",
       "LR3    1686\n",
       "LR1    1666\n",
       "LR2     845\n",
       "EV      702\n",
       "LV      663\n",
       "IV1     646\n",
       "ER      445\n",
       "H       210\n",
       "Name: GrowthStage, dtype: int64"
      ]
     },
     "execution_count": 10,
     "metadata": {},
     "output_type": "execute_result"
    }
   ],
   "source": [
    "raw_df['GrowthStage'].value_counts()"
   ]
  },
  {
   "cell_type": "code",
   "execution_count": 11,
   "metadata": {},
   "outputs": [
    {
     "data": {
      "text/html": [
       "<div>\n",
       "<style scoped>\n",
       "    .dataframe tbody tr th:only-of-type {\n",
       "        vertical-align: middle;\n",
       "    }\n",
       "\n",
       "    .dataframe tbody tr th {\n",
       "        vertical-align: top;\n",
       "    }\n",
       "\n",
       "    .dataframe thead th {\n",
       "        text-align: right;\n",
       "    }\n",
       "</style>\n",
       "<table border=\"1\" class=\"dataframe\">\n",
       "  <thead>\n",
       "    <tr style=\"text-align: right;\">\n",
       "      <th></th>\n",
       "      <th>B10</th>\n",
       "      <th>B11</th>\n",
       "      <th>B2</th>\n",
       "      <th>B3</th>\n",
       "      <th>B4</th>\n",
       "      <th>B5</th>\n",
       "      <th>B6</th>\n",
       "      <th>B7</th>\n",
       "      <th>GrowthDOY</th>\n",
       "    </tr>\n",
       "  </thead>\n",
       "  <tbody>\n",
       "    <tr>\n",
       "      <th>B10</th>\n",
       "      <td>1.000000</td>\n",
       "      <td>0.992794</td>\n",
       "      <td>0.715533</td>\n",
       "      <td>0.684770</td>\n",
       "      <td>0.681294</td>\n",
       "      <td>-0.379301</td>\n",
       "      <td>0.757265</td>\n",
       "      <td>0.802449</td>\n",
       "      <td>-0.014311</td>\n",
       "    </tr>\n",
       "    <tr>\n",
       "      <th>B11</th>\n",
       "      <td>0.992794</td>\n",
       "      <td>1.000000</td>\n",
       "      <td>0.674204</td>\n",
       "      <td>0.642582</td>\n",
       "      <td>0.640678</td>\n",
       "      <td>-0.377877</td>\n",
       "      <td>0.717076</td>\n",
       "      <td>0.770635</td>\n",
       "      <td>-0.012819</td>\n",
       "    </tr>\n",
       "    <tr>\n",
       "      <th>B2</th>\n",
       "      <td>0.715533</td>\n",
       "      <td>0.674204</td>\n",
       "      <td>1.000000</td>\n",
       "      <td>0.983620</td>\n",
       "      <td>0.972830</td>\n",
       "      <td>-0.314055</td>\n",
       "      <td>0.957587</td>\n",
       "      <td>0.960561</td>\n",
       "      <td>-0.017605</td>\n",
       "    </tr>\n",
       "    <tr>\n",
       "      <th>B3</th>\n",
       "      <td>0.684770</td>\n",
       "      <td>0.642582</td>\n",
       "      <td>0.983620</td>\n",
       "      <td>1.000000</td>\n",
       "      <td>0.981008</td>\n",
       "      <td>-0.252062</td>\n",
       "      <td>0.948829</td>\n",
       "      <td>0.938692</td>\n",
       "      <td>-0.024344</td>\n",
       "    </tr>\n",
       "    <tr>\n",
       "      <th>B4</th>\n",
       "      <td>0.681294</td>\n",
       "      <td>0.640678</td>\n",
       "      <td>0.972830</td>\n",
       "      <td>0.981008</td>\n",
       "      <td>1.000000</td>\n",
       "      <td>-0.353576</td>\n",
       "      <td>0.952458</td>\n",
       "      <td>0.940075</td>\n",
       "      <td>-0.013282</td>\n",
       "    </tr>\n",
       "    <tr>\n",
       "      <th>B5</th>\n",
       "      <td>-0.379301</td>\n",
       "      <td>-0.377877</td>\n",
       "      <td>-0.314055</td>\n",
       "      <td>-0.252062</td>\n",
       "      <td>-0.353576</td>\n",
       "      <td>1.000000</td>\n",
       "      <td>-0.316722</td>\n",
       "      <td>-0.393951</td>\n",
       "      <td>-0.038617</td>\n",
       "    </tr>\n",
       "    <tr>\n",
       "      <th>B6</th>\n",
       "      <td>0.757265</td>\n",
       "      <td>0.717076</td>\n",
       "      <td>0.957587</td>\n",
       "      <td>0.948829</td>\n",
       "      <td>0.952458</td>\n",
       "      <td>-0.316722</td>\n",
       "      <td>1.000000</td>\n",
       "      <td>0.976806</td>\n",
       "      <td>-0.018105</td>\n",
       "    </tr>\n",
       "    <tr>\n",
       "      <th>B7</th>\n",
       "      <td>0.802449</td>\n",
       "      <td>0.770635</td>\n",
       "      <td>0.960561</td>\n",
       "      <td>0.938692</td>\n",
       "      <td>0.940075</td>\n",
       "      <td>-0.393951</td>\n",
       "      <td>0.976806</td>\n",
       "      <td>1.000000</td>\n",
       "      <td>-0.013022</td>\n",
       "    </tr>\n",
       "    <tr>\n",
       "      <th>GrowthDOY</th>\n",
       "      <td>-0.014311</td>\n",
       "      <td>-0.012819</td>\n",
       "      <td>-0.017605</td>\n",
       "      <td>-0.024344</td>\n",
       "      <td>-0.013282</td>\n",
       "      <td>-0.038617</td>\n",
       "      <td>-0.018105</td>\n",
       "      <td>-0.013022</td>\n",
       "      <td>1.000000</td>\n",
       "    </tr>\n",
       "  </tbody>\n",
       "</table>\n",
       "</div>"
      ],
      "text/plain": [
       "                B10       B11        B2        B3        B4        B5  \\\n",
       "B10        1.000000  0.992794  0.715533  0.684770  0.681294 -0.379301   \n",
       "B11        0.992794  1.000000  0.674204  0.642582  0.640678 -0.377877   \n",
       "B2         0.715533  0.674204  1.000000  0.983620  0.972830 -0.314055   \n",
       "B3         0.684770  0.642582  0.983620  1.000000  0.981008 -0.252062   \n",
       "B4         0.681294  0.640678  0.972830  0.981008  1.000000 -0.353576   \n",
       "B5        -0.379301 -0.377877 -0.314055 -0.252062 -0.353576  1.000000   \n",
       "B6         0.757265  0.717076  0.957587  0.948829  0.952458 -0.316722   \n",
       "B7         0.802449  0.770635  0.960561  0.938692  0.940075 -0.393951   \n",
       "GrowthDOY -0.014311 -0.012819 -0.017605 -0.024344 -0.013282 -0.038617   \n",
       "\n",
       "                 B6        B7  GrowthDOY  \n",
       "B10        0.757265  0.802449  -0.014311  \n",
       "B11        0.717076  0.770635  -0.012819  \n",
       "B2         0.957587  0.960561  -0.017605  \n",
       "B3         0.948829  0.938692  -0.024344  \n",
       "B4         0.952458  0.940075  -0.013282  \n",
       "B5        -0.316722 -0.393951  -0.038617  \n",
       "B6         1.000000  0.976806  -0.018105  \n",
       "B7         0.976806  1.000000  -0.013022  \n",
       "GrowthDOY -0.018105 -0.013022   1.000000  "
      ]
     },
     "execution_count": 11,
     "metadata": {},
     "output_type": "execute_result"
    }
   ],
   "source": [
    "raw_df.corr()"
   ]
  },
  {
   "cell_type": "code",
   "execution_count": 12,
   "metadata": {},
   "outputs": [
    {
     "data": {
      "text/plain": [
       "<matplotlib.axes._subplots.AxesSubplot at 0x1a3fdbfd30>"
      ]
     },
     "execution_count": 12,
     "metadata": {},
     "output_type": "execute_result"
    },
    {
     "data": {
      "image/png": "[encoded data removed]",
      "text/plain": [
       "<Figure size 1080x1080 with 2 Axes>"
      ]
     },
     "metadata": {
      "needs_background": "light"
     },
     "output_type": "display_data"
    }
   ],
   "source": [
    "f, ax = plt.subplots(figsize=(15, 15))\n",
    "corr = raw_df.corr()\n",
    "sns.heatmap(corr,\n",
    "            xticklabels=corr.columns.values,\n",
    "            yticklabels=corr.columns.values,\n",
    "            annot=True, fmt=\".1f\")"
   ]
  },
  {
   "cell_type": "code",
   "execution_count": 13,
   "metadata": {},
   "outputs": [
    {
     "name": "stdout",
     "output_type": "stream",
     "text": [
      "[[1. 0. 0. ... 0. 0. 0.]\n",
      " [1. 0. 0. ... 0. 0. 0.]\n",
      " [1. 0. 0. ... 0. 0. 0.]\n",
      " ...\n",
      " [0. 0. 0. ... 0. 0. 1.]\n",
      " [0. 0. 0. ... 0. 0. 1.]\n",
      " [0. 0. 0. ... 0. 0. 1.]]\n"
     ]
    }
   ],
   "source": [
    "encoder=LabelEncoder()\n",
    "encoder.fit(Y)\n",
    "Y=encoder.transform(Y)\n",
    "Y=np_utils.to_categorical(Y, num_classes=9)\n",
    "print(Y)\n"
   ]
  },
  {
   "cell_type": "code",
   "execution_count": 14,
   "metadata": {},
   "outputs": [],
   "source": [
    "train_x, test_x, train_y, test_y = train_test_split(X,Y, test_size=0.2, random_state=48)"
   ]
  },
  {
   "cell_type": "code",
   "execution_count": 15,
   "metadata": {},
   "outputs": [
    {
     "name": "stdout",
     "output_type": "stream",
     "text": [
      "[[0. 0. 0. ... 0. 0. 0.]\n",
      " [0. 0. 0. ... 0. 0. 0.]\n",
      " [0. 0. 0. ... 0. 0. 0.]\n",
      " ...\n",
      " [0. 0. 0. ... 0. 0. 0.]\n",
      " [0. 0. 0. ... 0. 1. 0.]\n",
      " [0. 0. 0. ... 0. 0. 0.]]\n"
     ]
    }
   ],
   "source": [
    "print(train_y)"
   ]
  },
  {
   "cell_type": "code",
   "execution_count": 16,
   "metadata": {},
   "outputs": [
    {
     "name": "stdout",
     "output_type": "stream",
     "text": [
      "WARNING:tensorflow:From /Users/luciananieto/anaconda3/lib/python3.6/site-packages/tensorflow/python/ops/init_ops.py:1251: calling VarianceScaling.__init__ (from tensorflow.python.ops.init_ops) with dtype is deprecated and will be removed in a future version.\n",
      "Instructions for updating:\n",
      "Call initializer instance with the dtype argument instead of passing it to the constructor\n",
      "Epoch 1/25\n",
      "7057/7057 [==============================] - 2s 332us/sample - loss: 2.1141 - acc: 0.2708\n",
      "Epoch 2/25\n",
      "7057/7057 [==============================] - 2s 298us/sample - loss: 1.4523 - acc: 0.4785\n",
      "Epoch 3/25\n",
      "7057/7057 [==============================] - 2s 300us/sample - loss: 1.1791 - acc: 0.5380\n",
      "Epoch 4/25\n",
      "7057/7057 [==============================] - 2s 315us/sample - loss: 1.0848 - acc: 0.5752\n",
      "Epoch 5/25\n",
      "7057/7057 [==============================] - 2s 306us/sample - loss: 1.0412 - acc: 0.5878\n",
      "Epoch 6/25\n",
      "7057/7057 [==============================] - 2s 309us/sample - loss: 1.0130 - acc: 0.5943\n",
      "Epoch 7/25\n",
      "7057/7057 [==============================] - 2s 299us/sample - loss: 0.9592 - acc: 0.6202\n",
      "Epoch 8/25\n",
      "7057/7057 [==============================] - 2s 301us/sample - loss: 0.9551 - acc: 0.6178\n",
      "Epoch 9/25\n",
      "7057/7057 [==============================] - 2s 309us/sample - loss: 0.9455 - acc: 0.6236\n",
      "Epoch 10/25\n",
      "7057/7057 [==============================] - 2s 300us/sample - loss: 0.9215 - acc: 0.6351\n",
      "Epoch 11/25\n",
      "7057/7057 [==============================] - 2s 308us/sample - loss: 0.9277 - acc: 0.6268\n",
      "Epoch 12/25\n",
      "7057/7057 [==============================] - 2s 310us/sample - loss: 0.9231 - acc: 0.6299\n",
      "Epoch 13/25\n",
      "7057/7057 [==============================] - 2s 300us/sample - loss: 0.9001 - acc: 0.6412\n",
      "Epoch 14/25\n",
      "7057/7057 [==============================] - 2s 298us/sample - loss: 0.8948 - acc: 0.6457\n",
      "Epoch 15/25\n",
      "7057/7057 [==============================] - 2s 301us/sample - loss: 0.8813 - acc: 0.6514\n",
      "Epoch 16/25\n",
      "7057/7057 [==============================] - 2s 306us/sample - loss: 0.8668 - acc: 0.6555\n",
      "Epoch 17/25\n",
      "7057/7057 [==============================] - 2s 307us/sample - loss: 0.8623 - acc: 0.6538\n",
      "Epoch 18/25\n",
      "7057/7057 [==============================] - 2s 308us/sample - loss: 0.8590 - acc: 0.6557\n",
      "Epoch 19/25\n",
      "7057/7057 [==============================] - 2s 307us/sample - loss: 0.8444 - acc: 0.6622\n",
      "Epoch 20/25\n",
      "7057/7057 [==============================] - 2s 305us/sample - loss: 0.8420 - acc: 0.6620\n",
      "Epoch 21/25\n",
      "7057/7057 [==============================] - 2s 306us/sample - loss: 0.8401 - acc: 0.6620\n",
      "Epoch 22/25\n",
      "7057/7057 [==============================] - 2s 317us/sample - loss: 0.8286 - acc: 0.6640\n",
      "Epoch 23/25\n",
      "7057/7057 [==============================] - 2s 305us/sample - loss: 0.8317 - acc: 0.6626\n",
      "Epoch 24/25\n",
      "7057/7057 [==============================] - 2s 300us/sample - loss: 0.8148 - acc: 0.6731\n",
      "Epoch 25/25\n",
      "7057/7057 [==============================] - 2s 304us/sample - loss: 0.8202 - acc: 0.6697\n",
      "1765/1765 [==============================] - 0s 52us/sample - loss: 0.7657 - acc: 0.7150\n",
      "\n",
      "acc: 71.50%\n"
     ]
    }
   ],
   "source": [
    "input_dim = len(raw_df.columns)-1\n",
    "\n",
    "model=Sequential()\n",
    "\n",
    "model.add(Dense(36,input_dim=input_dim, activation=\"relu\"))\n",
    "model.add(Dense(38, activation =\"relu\"))\n",
    "model.add(Dense(38, activation =\"relu\"))\n",
    "model.add(Dense(38, activation =\"relu\"))\n",
    "model.add(Dense(9, activation=\"softmax\"))\n",
    "\n",
    "model.compile(loss=\"categorical_crossentropy\", optimizer=\"adam\", metrics=['accuracy'])\n",
    "\n",
    "model.fit(train_x, train_y, epochs=25, batch_size=5)\n",
    "\n",
    "scores = model.evaluate(test_x, test_y)\n",
    "print(\"\\n%s: %.2f%%\" %(model.metrics_names[1], scores[1]*100))\n"
   ]
  },
  {
   "cell_type": "code",
   "execution_count": 17,
   "metadata": {
    "collapsed": true,
    "jupyter": {
     "outputs_hidden": true,
     "source_hidden": true
    }
   },
   "outputs": [
    {
     "name": "stdout",
     "output_type": "stream",
     "text": [
      "Epoch 1/10\n",
      "7057/7057 [==============================] - 1s 173us/sample - loss: 2.5831 - acc: 0.2242\n",
      "Epoch 2/10\n",
      "7057/7057 [==============================] - 1s 138us/sample - loss: 1.8498 - acc: 0.3503\n",
      "Epoch 3/10\n",
      "7057/7057 [==============================] - 1s 135us/sample - loss: 1.5023 - acc: 0.4590\n",
      "Epoch 4/10\n",
      "7057/7057 [==============================] - 1s 132us/sample - loss: 1.2719 - acc: 0.5219\n",
      "Epoch 5/10\n",
      "7057/7057 [==============================] - 1s 134us/sample - loss: 1.1597 - acc: 0.5599\n",
      "Epoch 6/10\n",
      "7057/7057 [==============================] - 1s 132us/sample - loss: 1.1005 - acc: 0.5728\n",
      "Epoch 7/10\n",
      "7057/7057 [==============================] - 1s 142us/sample - loss: 1.0143 - acc: 0.6080\n",
      "Epoch 8/10\n",
      "7057/7057 [==============================] - 1s 137us/sample - loss: 0.9837 - acc: 0.6129\n",
      "Epoch 9/10\n",
      "7057/7057 [==============================] - 1s 132us/sample - loss: 0.9668 - acc: 0.6202\n",
      "Epoch 10/10\n",
      "7057/7057 [==============================] - 1s 134us/sample - loss: 0.9474 - acc: 0.6285\n",
      "1765/1765 [==============================] - 0s 56us/sample - loss: 0.8658 - acc: 0.6810\n",
      "\n",
      "acc: 68.10%\n"
     ]
    }
   ],
   "source": [
    "input_dim = len(raw_df.columns)-1\n",
    "\n",
    "model=Sequential()\n",
    "\n",
    "model.add(Flatten()),\n",
    "model.add(Dense(36, activation=\"relu\", input_shape=(19,)))\n",
    "model.add(Dense(36, activation =\"relu\"))\n",
    "model.add(Dense(36,activation =\"relu\"))\n",
    "model.add(Dense(9, \n",
    "                activation=\"softmax\"))\n",
    "\n",
    "model.compile(loss=\"categorical_crossentropy\", optimizer=\"adam\", metrics=['accuracy'])\n",
    "\n",
    "model.fit(train_x, train_y, epochs=10, batch_size=10)\n",
    "\n",
    "scores = model.evaluate(test_x, test_y)\n",
    "print(\"\\n%s: %.2f%%\" %(model.metrics_names[1], scores[1]*100))\n"
   ]
  },
  {
   "cell_type": "code",
   "execution_count": 18,
   "metadata": {},
   "outputs": [
    {
     "name": "stdout",
     "output_type": "stream",
     "text": [
      "Model: \"sequential_1\"\n",
      "_________________________________________________________________\n",
      "Layer (type)                 Output Shape              Param #   \n",
      "=================================================================\n",
      "flatten (Flatten)            multiple                  0         \n",
      "_________________________________________________________________\n",
      "dense_5 (Dense)              multiple                  360       \n",
      "_________________________________________________________________\n",
      "dense_6 (Dense)              multiple                  1332      \n",
      "_________________________________________________________________\n",
      "dense_7 (Dense)              multiple                  1332      \n",
      "_________________________________________________________________\n",
      "dense_8 (Dense)              multiple                  333       \n",
      "=================================================================\n",
      "Total params: 3,357\n",
      "Trainable params: 3,357\n",
      "Non-trainable params: 0\n",
      "_________________________________________________________________\n"
     ]
    }
   ],
   "source": [
    "model.summary()"
   ]
  },
  {
   "cell_type": "code",
   "execution_count": 19,
   "metadata": {},
   "outputs": [],
   "source": [
    "GrowthStages= ['IV1','IV2','EV','LV','ER', 'LR1', 'LR2','LR3','H'] "
   ]
  },
  {
   "cell_type": "code",
   "execution_count": 20,
   "metadata": {},
   "outputs": [],
   "source": [
    "\n",
    "pred = model.predict(test_x)\n",
    "pred = np.argmax(pred,axis=1) # raw probabilities to chosen class (highest probability)"
   ]
  },
  {
   "cell_type": "code",
   "execution_count": 21,
   "metadata": {},
   "outputs": [
    {
     "name": "stdout",
     "output_type": "stream",
     "text": [
      "Accuracy score: 0.6810198300283287\n"
     ]
    }
   ],
   "source": [
    "from sklearn import metrics\n",
    "\n",
    "y_compare = np.argmax(test_y,axis=1) \n",
    "score = metrics.accuracy_score(y_compare, pred)\n",
    "print(\"Accuracy score: {}\".format(score))"
   ]
  },
  {
   "cell_type": "code",
   "execution_count": 22,
   "metadata": {},
   "outputs": [],
   "source": [
    "# Plot a confusion matrix.\n",
    "# cm is the confusion matrix, names are the names of the classes.\n",
    "def plot_confusion_matrix(cm, names, title='Confusion matrix', cmap=plt.cm.Blues):\n",
    "    plt.imshow(cm, interpolation='nearest', cmap=cmap)\n",
    "    plt.title(title)\n",
    "    plt.colorbar()\n",
    "    tick_marks = np.arange(len(GrowthStages))\n",
    "    plt.xticks(tick_marks, GrowthStages, rotation=45)\n",
    "    plt.yticks(tick_marks, GrowthStages)\n",
    "    plt.tight_layout()\n",
    "    plt.ylabel('True label')\n",
    "    plt.xlabel('Predicted label')"
   ]
  },
  {
   "cell_type": "code",
   "execution_count": 23,
   "metadata": {},
   "outputs": [
    {
     "name": "stdout",
     "output_type": "stream",
     "text": [
      "Confusion matrix, without normalization\n",
      "[[ 23   0   0   0   0  47   0   0  29]\n",
      " [  0  15   0   0  78   0   0   0  26]\n",
      " [  0   0   0   0   0  19   0  24   0]\n",
      " [  0   0   0  95  35   0   0   0   2]\n",
      " [  0   4   0  12 369   0   0   0   8]\n",
      " [ 15   0   0   0   0 326   0  14   2]\n",
      " [  0   0   0   0   0 146   0  16   0]\n",
      " [  0   0   0   0   0  65   0 264   0]\n",
      " [  6   7   0   0   6   2   0   0 110]]\n",
      "Normalized confusion matrix\n",
      "[[0.23 0.   0.   0.   0.   0.47 0.   0.   0.29]\n",
      " [0.   0.13 0.   0.   0.66 0.   0.   0.   0.22]\n",
      " [0.   0.   0.   0.   0.   0.44 0.   0.56 0.  ]\n",
      " [0.   0.   0.   0.72 0.27 0.   0.   0.   0.02]\n",
      " [0.   0.01 0.   0.03 0.94 0.   0.   0.   0.02]\n",
      " [0.04 0.   0.   0.   0.   0.91 0.   0.04 0.01]\n",
      " [0.   0.   0.   0.   0.   0.9  0.   0.1  0.  ]\n",
      " [0.   0.   0.   0.   0.   0.2  0.   0.8  0.  ]\n",
      " [0.05 0.05 0.   0.   0.05 0.02 0.   0.   0.84]]\n"
     ]
    },
    {
     "data": {
      "image/png": "[encoded data removed]",
      "text/plain": [
       "<Figure size 432x288 with 2 Axes>"
      ]
     },
     "metadata": {
      "needs_background": "light"
     },
     "output_type": "display_data"
    },
    {
     "data": {
      "image/png": "[encoded data removed]",
      "text/plain": [
       "<Figure size 432x288 with 2 Axes>"
      ]
     },
     "metadata": {
      "needs_background": "light"
     },
     "output_type": "display_data"
    }
   ],
   "source": [
    "import numpy as np\n",
    "from sklearn.metrics import confusion_matrix\n",
    "\n",
    "# Compute confusion matrix\n",
    "cm = confusion_matrix(y_compare, pred)\n",
    "np.set_printoptions(precision=2)\n",
    "print('Confusion matrix, without normalization')\n",
    "print(cm)\n",
    "plt.figure()\n",
    "plot_confusion_matrix(cm, GrowthStages)\n",
    "\n",
    "# Normalize the confusion matrix by row (i.e by the number of samples\n",
    "# in each class)\n",
    "cm_normalized = cm.astype('float') / cm.sum(axis=1)[:, np.newaxis]\n",
    "print('Normalized confusion matrix')\n",
    "print(cm_normalized)\n",
    "plt.figure()\n",
    "plot_confusion_matrix(cm_normalized, GrowthStages, title='Normalized confusion matrix')\n",
    "\n",
    "plt.show()"
   ]
  },
  {
   "cell_type": "code",
   "execution_count": 24,
   "metadata": {},
   "outputs": [
    {
     "name": "stdout",
     "output_type": "stream",
     "text": [
      "Confusion matrix, without normalization\n",
      "              precision    recall  f1-score   support\n",
      "\n",
      "           0       0.52      0.23      0.32        99\n",
      "           1       0.58      0.13      0.21       119\n",
      "           2       0.00      0.00      0.00        43\n",
      "           3       0.89      0.72      0.79       132\n",
      "           4       0.76      0.94      0.84       393\n",
      "           5       0.54      0.91      0.68       357\n",
      "           6       0.00      0.00      0.00       162\n",
      "           7       0.83      0.80      0.82       329\n",
      "           8       0.62      0.84      0.71       131\n",
      "\n",
      "    accuracy                           0.68      1765\n",
      "   macro avg       0.53      0.51      0.49      1765\n",
      "weighted avg       0.61      0.68      0.62      1765\n",
      "\n"
     ]
    },
    {
     "name": "stderr",
     "output_type": "stream",
     "text": [
      "/Users/luciananieto/anaconda3/lib/python3.6/site-packages/sklearn/metrics/classification.py:1437: UndefinedMetricWarning: Precision and F-score are ill-defined and being set to 0.0 in labels with no predicted samples.\n",
      "  'precision', 'predicted', average, warn_for)\n"
     ]
    }
   ],
   "source": [
    "import numpy as np\n",
    "from sklearn.metrics import classification_report\n",
    "\n",
    "# Compute confusion matrix\n",
    "cr = classification_report(y_compare, pred)\n",
    "np.set_printoptions(precision=2)\n",
    "print('Confusion matrix, without normalization')\n",
    "print(cr)"
   ]
  },
  {
   "cell_type": "code",
   "execution_count": null,
   "metadata": {},
   "outputs": [],
   "source": []
  }
 ],
 "metadata": {
  "kernelspec": {
   "display_name": "Python 3",
   "language": "python",
   "name": "python3"
  },
  "language_info": {
   "codemirror_mode": {
    "name": "ipython",
    "version": 3
   },
   "file_extension": ".py",
   "mimetype": "text/x-python",
   "name": "python",
   "nbconvert_exporter": "python",
   "pygments_lexer": "ipython3",
   "version": "3.6.8"
  }
 },
 "nbformat": 4,
 "nbformat_minor": 4
}
